{
 "cells": [
  {
   "cell_type": "markdown",
   "metadata": {},
   "source": [
    "# Final assignment \n",
    "For your final assignment, you will analyze linguistic data with so-called **linguistic processors** and process the output of these processors. \n",
    "\n",
    "In general, the assignment consists of these main steps:\n",
    "1. preprocess a number of files with linguistic processors\n",
    "2. extract statistics from those annotated files\n",
    "4. store the statistics in a useful format\n",
    "5. present the statistics using visualizations\n",
    "\n",
    "There are two main directions, from which you must choose one:\n",
    "1. you analyze the data proposed by us\n",
    "2. you propose your own project. We encourage you to discuss your ideas with us as soon as possible."
   ]
  },
  {
   "cell_type": "markdown",
   "metadata": {},
   "source": [
    "## Important dates\n",
    "1. **23-12-2016 13:00 pm**: decision about which direction you will choose. For those who will propose their own project, the project has to be approved by us before this deadline.\n",
    "2. **2-2-2017 23:59 pm**: 5-minute presentation (you will NOT receive a grade for this presentation ; see below for more information)\n",
    "3. **5-2-2017 23:59 pm**: deadline submission final assignment"
   ]
  },
  {
   "cell_type": "markdown",
   "metadata": {},
   "source": [
    "## Data (do not redistribute this data)\n",
    "### everything described in this section is relevant if you choose to analyze the data proposed by us\n",
    "In the folder **data**, there are 10.000 json files, each containing one article of the [SignalMedia corpus](http://research.signalmedia.co/newsir16/signal-dataset.html).\n",
    "Let's look at an example:"
   ]
  },
  {
   "cell_type": "code",
   "execution_count": 3,
   "metadata": {
    "collapsed": true
   },
   "outputs": [],
   "source": [
    "import json"
   ]
  },
  {
   "cell_type": "code",
   "execution_count": 4,
   "metadata": {
    "collapsed": false
   },
   "outputs": [
    {
     "name": "stdout",
     "output_type": "stream",
     "text": [
      "{\n",
      "    \"content\": \"CLEVELAND, OH - AUGUST 06: Republican presidential candidates (L-R) New Jersey Gov. Chris Christie, Sen. Marco Rubio (R-FL), Ben Carson, Wisconsin Gov. Scott Walker, Donald Trump, Jeb Bush, Mike Huckabee and Sen. Ted Cruz (R-TX) take the stage at the Quicken Loans Arena August 6, 2015 in Cleveland, Ohio. \\n \\nScott Olson \\n \\nImage copyright 2015 . All rights reserved. This material may not be published, broadcast, rewritten, or redistributed.\",\n",
      "    \"id\": \"5bb69bce-741e-42b3-af0a-c911bfb71330\",\n",
      "    \"media-type\": \"News\",\n",
      "    \"published\": \"2015-09-16T16:57:45Z\",\n",
      "    \"source\": \"KSHB\",\n",
      "    \"title\": \"The GOP Presidential debate BINGO card\"\n",
      "}\n"
     ]
    }
   ],
   "source": [
    "with open('data/4848.json') as infile:\n",
    "    a_json = json.load(infile)\n",
    "    print(json.dumps(a_json, indent=4, sort_keys=True))"
   ]
  },
  {
   "cell_type": "markdown",
   "metadata": {},
   "source": [
    "Each json file (containing one news article) has the following keys (information taken [SignalMedia corpus](http://research.signalmedia.co/newsir16/signal-dataset.html)):\n",
    "* **id**: a unique identifier for the article\n",
    "* **title**: the title of the article\n",
    "* **content**: the textual content of the article (may occasionally contain HTML and JavaScript content)\n",
    "* **source**: the name of the article source (e.g. Reuters)\n",
    "* **published**: the publication date of the article\n",
    "* **media-type**: either *News* or *Blog*"
   ]
  },
  {
   "cell_type": "markdown",
   "metadata": {
    "collapsed": true
   },
   "source": [
    "We will use [spaCy](https://spacy.io/) to run the linguistic processors. Please check the notebook **Topic 4** for instructions on how to install spaCy. Here is an example of how spaCy works"
   ]
  },
  {
   "cell_type": "code",
   "execution_count": 5,
   "metadata": {
    "collapsed": true
   },
   "outputs": [],
   "source": [
    "from spacy.en import English\n",
    "nlp = English()"
   ]
  },
  {
   "cell_type": "code",
   "execution_count": 6,
   "metadata": {
    "collapsed": false
   },
   "outputs": [],
   "source": [
    "with open('data/4848.json') as infile:\n",
    "    a_json = json.load(infile)"
   ]
  },
  {
   "cell_type": "code",
   "execution_count": 10,
   "metadata": {
    "collapsed": true
   },
   "outputs": [],
   "source": [
    "spacy_output = nlp(a_json['content'])"
   ]
  },
  {
   "cell_type": "code",
   "execution_count": 12,
   "metadata": {
    "collapsed": false
   },
   "outputs": [
    {
     "name": "stdout",
     "output_type": "stream",
     "text": [
      "\n",
      "token CLEVELAND\n",
      "type cleveland\n",
      "part of speech NOUN\n",
      "stopword False\n"
     ]
    }
   ],
   "source": [
    "for sent_obj in spacy_output.sents: # for each sentence\n",
    "    for token_obj in spacy_output: # for each token in a sentence\n",
    "        print()\n",
    "        print('token', token_obj.text)\n",
    "        print('type', token_obj.lemma_)\n",
    "        print('part of speech', token_obj.pos_)\n",
    "        print('stopword', token_obj.is_stop)\n",
    "        break\n",
    "    break"
   ]
  },
  {
   "cell_type": "markdown",
   "metadata": {},
   "source": [
    "To summarize, for each article you will have two sources of information:\n",
    "* you have the **metadata** in the json file\n",
    "* you have the **annotations** from spaCy"
   ]
  },
  {
   "cell_type": "markdown",
   "metadata": {},
   "source": [
    "## Statistics\n",
    "Write a a function/script that takes a list/set/generator of paths to one or more json files in the folder **data** as input and outputs a dictionary containing the:\n",
    "* average number of tokens\n",
    "    * per article\n",
    "* average number of types\n",
    "    * per article\n",
    "* average number of sentences\n",
    "    * per article\n",
    "* 10 longest sentences in all articles\n",
    "* type-token ratio (number of types / number of tokens)\n",
    "    * per article\n",
    "    * overall\n",
    "* frequency per source (see metadata)\n",
    "* frequency per media-type (see metadata)\n",
    "    \n",
    "In addition, please write the statistics to a TSV (tab separated) file."
   ]
  },
  {
   "cell_type": "markdown",
   "metadata": {},
   "source": [
    "## Visualizing interesting properties of the data\n",
    "This part is completely open. Feel free to visualize whatever you want.\n",
    "Please create at least three visualizations. Please take a look at **Topic 6** for inspiration."
   ]
  },
  {
   "cell_type": "markdown",
   "metadata": {
    "collapsed": true
   },
   "source": [
    "## 5-minute presentation\n",
    "\n",
    "You'll also have to present your work in the last session of the course. This is useful for several reasons. \n",
    "* First, we want you to reflect on the way you've handled your project. \n",
    "* Second, it's useful to see how other people tackle similar problems.\n",
    "* Third, your fellow students' work may be useful to you in the future as well. We'd like to encourage you to check out what your classmates did."
   ]
  },
  {
   "cell_type": "markdown",
   "metadata": {},
   "source": [
    "## Preparation for the presentation\n",
    "\n",
    "Here are some questions to help you reflect on your project. You don't need to\n",
    "address all of these points in your presentation (5 minutes is *really* short!).\n",
    "Just highlight the points that are most important for you.\n",
    "\n",
    "* What did you do?\n",
    "* How did you do it?\n",
    "    - What modules did you use? What are they useful for?\n",
    "    - What kind of data did you use? How did you get it?\n",
    "    - How did you manage your project? What did your workflow look like?\n",
    "* How can others use or build on your project?\n",
    "* What was the greatest challenge for you?\n",
    "* What took the largest amount of time? (try to keep track of this)\n",
    "* What would you do differently next time?\n",
    "\n",
    "In terms of format, you can choose any kind of presentation that you like (powerpoint, notebook, web demo, ...)."
   ]
  },
  {
   "cell_type": "markdown",
   "metadata": {},
   "source": [
    "## Grading\n",
    "\n",
    "We will consider the following questions (along with the core principles) to evaluate your final assignment:\n",
    "* Does the code work?\n",
    "* Does the code fulfill the requirements?\n",
    "* Is the code well-documented?\n",
    "* Is the code clear and understandable?\n",
    "* Is the code modular?\n",
    "* Is the code easily extensible?\n",
    "* How scalable is the solution?\n",
    "* Is the code written in accordance with [the community standards](http://pep8.org/)? (That is: PEP8)\n",
    "\n",
    "The weighting of the grading is as follows:\n",
    "<table bgcolor=\"#eeeeee\" border=1>\n",
    "<tr bgcolor=\"#cccccc\"><td></td><td>Weight (%)</td>\n",
    "<tr><td bgcolor=#cccccc>Code Quality</td><td>40</td></tr>\n",
    "<tr><td bgcolor=#cccccc>Statistics</td><td>30</td></tr>\n",
    "<tr><td bgcolor=#cccccc>Visualizations</td><td>20</td></tr>\n",
    "<tr><td bgcolor=#cccccc>Documentation</td><td>10</td></tr>\n",
    "</table>"
   ]
  }
 ],
 "metadata": {
  "anaconda-cloud": {},
  "kernelspec": {
   "display_name": "Python [conda root]",
   "language": "python",
   "name": "conda-root-py"
  },
  "language_info": {
   "codemirror_mode": {
    "name": "ipython",
    "version": 3
   },
   "file_extension": ".py",
   "mimetype": "text/x-python",
   "name": "python",
   "nbconvert_exporter": "python",
   "pygments_lexer": "ipython3",
   "version": "3.5.2"
  }
 },
 "nbformat": 4,
 "nbformat_minor": 1
}
