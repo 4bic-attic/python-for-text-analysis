{
 "cells": [
  {
   "cell_type": "markdown",
   "metadata": {},
   "source": [
    "### Topics to be covered\n",
    "\n",
    "* Learn the basic vocabulary and grammar of Python (exam material):\n",
    "    - Variables referring to objects\n",
    "    - Types: int, list, string, set, dict, boolean\n",
    "    - Conditionals: if, elif, else\n",
    "    - Loops: for (and passive knowledge of while)\n",
    "    - Functions: built-in functions and methods, defining your own functions\n",
    "    - Using files"
   ]
  },
  {
   "cell_type": "markdown",
   "metadata": {},
   "source": [
    "### Boolean Expressions"
   ]
  },
  {
   "cell_type": "markdown",
   "metadata": {},
   "source": [
    "Please determine for the following code snippets whether the output will be:\n",
    "1. False (of type **bool**)\n",
    "2. True (of type **bool**)"
   ]
  },
  {
   "cell_type": "code",
   "execution_count": null,
   "metadata": {
    "collapsed": false
   },
   "outputs": [],
   "source": [
    "print(\"test\" != \"testing\")"
   ]
  },
  {
   "cell_type": "code",
   "execution_count": null,
   "metadata": {
    "collapsed": false
   },
   "outputs": [],
   "source": [
    "print(not False)"
   ]
  },
  {
   "cell_type": "code",
   "execution_count": null,
   "metadata": {
    "collapsed": false
   },
   "outputs": [],
   "source": [
    "print( (5 + 7) == 12)"
   ]
  },
  {
   "cell_type": "code",
   "execution_count": null,
   "metadata": {
    "collapsed": false
   },
   "outputs": [],
   "source": [
    "print( (5 + 7) in [5, 1, 11, 7, 17, 13])"
   ]
  },
  {
   "cell_type": "code",
   "execution_count": null,
   "metadata": {
    "collapsed": false
   },
   "outputs": [],
   "source": [
    "print(100 != '100')"
   ]
  },
  {
   "cell_type": "code",
   "execution_count": null,
   "metadata": {
    "collapsed": false
   },
   "outputs": [],
   "source": [
    "print( (5 + 17) <= 21)"
   ]
  },
  {
   "cell_type": "code",
   "execution_count": null,
   "metadata": {
    "collapsed": false
   },
   "outputs": [],
   "source": [
    "print('a' not in 'hello world')"
   ]
  },
  {
   "cell_type": "code",
   "execution_count": null,
   "metadata": {
    "collapsed": false
   },
   "outputs": [],
   "source": [
    "d = {'1': 1, '2': 2}\n",
    "print(1 in d)"
   ]
  },
  {
   "cell_type": "code",
   "execution_count": null,
   "metadata": {
    "collapsed": false
   },
   "outputs": [],
   "source": [
    "d = {'1': 1, '2': 2}\n",
    "print('1' in d.keys())"
   ]
  },
  {
   "cell_type": "code",
   "execution_count": null,
   "metadata": {
    "collapsed": false
   },
   "outputs": [],
   "source": [
    "print(not False == True)"
   ]
  },
  {
   "cell_type": "code",
   "execution_count": null,
   "metadata": {
    "collapsed": false
   },
   "outputs": [],
   "source": [
    "print( (1+4) > 5)"
   ]
  },
  {
   "cell_type": "code",
   "execution_count": null,
   "metadata": {
    "collapsed": false
   },
   "outputs": [],
   "source": [
    "d = {'1': 1, '2': 2}\n",
    "print(len(d) == 2)"
   ]
  },
  {
   "cell_type": "code",
   "execution_count": null,
   "metadata": {
    "collapsed": false
   },
   "outputs": [],
   "source": [
    "any([])"
   ]
  },
  {
   "cell_type": "code",
   "execution_count": null,
   "metadata": {
    "collapsed": false
   },
   "outputs": [],
   "source": [
    "all([])"
   ]
  },
  {
   "cell_type": "code",
   "execution_count": null,
   "metadata": {
    "collapsed": false
   },
   "outputs": [],
   "source": [
    "letters = ['a','b','c','d']\n",
    "numbers = [1,2,3,4,5]\n",
    "all([len(letters) < 4,\n",
    "     numbers[-1] == 5])"
   ]
  },
  {
   "cell_type": "code",
   "execution_count": null,
   "metadata": {
    "collapsed": false
   },
   "outputs": [],
   "source": [
    "letters = ['a','b','c','d']\n",
    "numbers = [1,2,3,4,5]\n",
    "any([letters[1] == 'a',\n",
    "     4 in numbers])"
   ]
  },
  {
   "cell_type": "code",
   "execution_count": null,
   "metadata": {
    "collapsed": false
   },
   "outputs": [],
   "source": [
    "a_string = 'hello world'\n",
    "all([a_string.replace('o', 'b', 1) == 'hellb world',\n",
    "     len(a_string) == 11,\n",
    "     a_string[2] == 'l'])"
   ]
  },
  {
   "cell_type": "code",
   "execution_count": null,
   "metadata": {
    "collapsed": false
   },
   "outputs": [],
   "source": [
    "a_list = ['a', 'b', 'c', 'd']\n",
    "all([a_list.pop() == 'd',\n",
    "     a_list[0] == 'a'])"
   ]
  },
  {
   "cell_type": "markdown",
   "metadata": {},
   "source": [
    "### Syntax\n",
    "\n",
    "Answer the following questions:\n",
    "\n",
    "1. What is the difference between == and =?\n",
    "2. What is the difference between mutable and immutable?\n",
    "3. When do you use squared brackets?\n",
    "4. Explain in words what this means:  `4 < x < 10`\n",
    "5. Why would anyone want to use sets instead of lists? \n",
    "6. Consider the following string and list:  \n",
    "\n",
    "   `a_string = \"python is awesome\"    \n",
    "   a_list = [\"python\", \"is\", \"awesome\"]`   \n",
    "      \n",
    "   Using this example, explain how the join() and split() methods complement each other. \n",
    "7. What are the two ways to create an empty dictionary?\n",
    "8. What would be a shorter equivalent notation for `x = x + 1`?\n",
    "9. What would be printed with this code? \n",
    "\n",
    "    `a_string = \"python is awesome\"\n",
    "    print(a_string[7:11])`\n",
    "    \n",
    "10. What are the two building blocks of a dictionary? "
   ]
  },
  {
   "cell_type": "markdown",
   "metadata": {},
   "source": [
    "### Tracing\n",
    "\n",
    "Below is a function that processes data from a morphological analyzer for Turkish. Here's an example of the data that needs to be processed:\n",
    "\n",
    "`'olmamak\\tol<V><neg><vn:inf><N>\\nolmamak\\tol<V><neg><vn:inf><N><0><V><cpl:pres>\\nolmamak\\tol<V><neg><vn:inf><N><0><V><cpl:pres><3s>\\n\\n'`\n",
    "\n",
    "This data contains morphological information about the word `olmamak` (with two different analyses). The problem is that it's not yet suitable for further processing. So `analyze_output()` does that for us, returning the data in the form of a Python object that is easier to work with.\n",
    "\n",
    "Please read this code (annotated with line numbers) and answer the questions below. We've not used `str.splitlines()` much in this course, but it's a method that splits a string on every newline character. Here's a small example:\n",
    "\n",
    "* Input: `'Hello\\nWorld\\n\\n'.splitlines()` \n",
    "* Output: `['Hello', 'World', '']`"
   ]
  },
  {
   "cell_type": "code",
   "execution_count": null,
   "metadata": {
    "collapsed": true
   },
   "outputs": [],
   "source": [
    "def analyze_output(output):                          # 1\n",
    "    \"Analyze the output of the FST.\"                 # 2\n",
    "    results = []                                     # 3\n",
    "    for line in output.splitlines():                 # 4\n",
    "        if line:                                     # 5\n",
    "            word, analysis = line.split('\\t')        # 6\n",
    "            morph_data = analysis.split('<')         # 7\n",
    "            base, *rest = morph_data                 # 8\n",
    "            morph_feats = []                         # 9\n",
    "            for feature in rest:                     # 10\n",
    "                morph_feats.append(feature[:-1])     # 11\n",
    "            entry = {'word': word,                   # 12\n",
    "                     'base': base,                   # 13\n",
    "                     'features': morph_feats}        # 14\n",
    "            results.append(entry)                    # 15\n",
    "    return results                                   # 16"
   ]
  },
  {
   "cell_type": "markdown",
   "metadata": {
    "collapsed": true
   },
   "source": [
    "Suppose we call the function like this:\n",
    "\n",
    "```python\n",
    "output = 'olmamak\\tol<V><neg><vn:inf><N>\\nolmamak\\tol<V><neg><vn:inf><N><0><V><cpl:pres>\\nolmamak\\tol<V><neg><vn:inf><N><0><V><cpl:pres><3s>\\n\\n'\n",
    "result = analyze_output(output)\n",
    "```\n",
    "\n",
    "Question 1. What is the **type** and **value** of `word` on line 6, during the first iteration of the loop?"
   ]
  },
  {
   "cell_type": "code",
   "execution_count": null,
   "metadata": {
    "collapsed": true
   },
   "outputs": [],
   "source": []
  },
  {
   "cell_type": "markdown",
   "metadata": {},
   "source": [
    "Question 2. What is the **type** and **value** of `base` on line 6, during the first iteration of the loop?"
   ]
  },
  {
   "cell_type": "code",
   "execution_count": null,
   "metadata": {
    "collapsed": true
   },
   "outputs": [],
   "source": []
  },
  {
   "cell_type": "markdown",
   "metadata": {},
   "source": [
    "Question 3. What is the purpose of `if line` (line 5)? When does it evaluate to `False`?"
   ]
  },
  {
   "cell_type": "code",
   "execution_count": null,
   "metadata": {
    "collapsed": true
   },
   "outputs": [],
   "source": []
  },
  {
   "cell_type": "markdown",
   "metadata": {},
   "source": [
    "Question 4. What is the **type** and **value** of `entry` (line 12) after the first iteration of the loop?"
   ]
  },
  {
   "cell_type": "code",
   "execution_count": null,
   "metadata": {
    "collapsed": true
   },
   "outputs": [],
   "source": []
  },
  {
   "cell_type": "markdown",
   "metadata": {},
   "source": [
    "Question 5. What is the purpose of `feature[:-1]` on line 11? What does it do? (Use the first iteration of the loop as an example.)"
   ]
  },
  {
   "cell_type": "code",
   "execution_count": null,
   "metadata": {
    "collapsed": true
   },
   "outputs": [],
   "source": []
  },
  {
   "cell_type": "markdown",
   "metadata": {},
   "source": [
    "Question 6. What is the **type** and **value** of `results` on line 16, at the end of the function?"
   ]
  },
  {
   "cell_type": "code",
   "execution_count": null,
   "metadata": {
    "collapsed": true
   },
   "outputs": [],
   "source": []
  },
  {
   "cell_type": "markdown",
   "metadata": {},
   "source": [
    "### Spot the error\n",
    "\n",
    "Please explain for each of the problem cases below why they produce an error."
   ]
  },
  {
   "cell_type": "code",
   "execution_count": null,
   "metadata": {
    "collapsed": true
   },
   "outputs": [],
   "source": [
    "# Problem 1\n",
    "a_string = \"python is awesome\"\n",
    "a_string[5] = 'X'\n",
    "print(a_string)"
   ]
  },
  {
   "cell_type": "code",
   "execution_count": null,
   "metadata": {
    "collapsed": true
   },
   "outputs": [],
   "source": [
    "# Problem 2\n",
    "names = [\"Karin\", \"Paul\"]\n",
    "\"Hello\" + names"
   ]
  },
  {
   "cell_type": "code",
   "execution_count": null,
   "metadata": {
    "collapsed": true
   },
   "outputs": [],
   "source": [
    "# Problem 4\n",
    "def say_hello(name)\n",
    "    print(\"Hello\", name)\n",
    "\n",
    "say_hello(\"Sandy\")"
   ]
  },
  {
   "cell_type": "code",
   "execution_count": null,
   "metadata": {
    "collapsed": true
   },
   "outputs": [],
   "source": [
    "# Problem 5\n",
    "def replace_a_by_o(a_string):\n",
    "    new_string = a_string.replace(\"a\", \"o\")\n",
    "    print(new_string)\n",
    "\n",
    "replace_a_by_o('apples and bananas')\n",
    "print(new_string)"
   ]
  },
  {
   "cell_type": "code",
   "execution_count": null,
   "metadata": {
    "collapsed": true
   },
   "outputs": [],
   "source": [
    "# Problem 6\n",
    "fruit = [\"apple\", \"banana\", \"mango\"]\n",
    "fruit.append([\"pineapple\", \"strawberry\"])\n",
    "print(fruit[4])"
   ]
  },
  {
   "cell_type": "code",
   "execution_count": null,
   "metadata": {
    "collapsed": true
   },
   "outputs": [],
   "source": [
    "# Problem 7\n",
    "for number in [\"15\", \"2\", \"7\"]:\n",
    "    if number < 10:\n",
    "        print(number, \"is lower than 10\")"
   ]
  },
  {
   "cell_type": "code",
   "execution_count": null,
   "metadata": {
    "collapsed": true
   },
   "outputs": [],
   "source": [
    "# Problem 8\n",
    "shopping_list = {\"apples\": 5, \"bananas\": 2, \"pineapples\": 1}\n",
    "for product in shopping_list.items():\n",
    "    print(shopping_list[product])"
   ]
  },
  {
   "cell_type": "code",
   "execution_count": null,
   "metadata": {
    "collapsed": true
   },
   "outputs": [],
   "source": [
    "# Problem 9\n",
    "shopping_list = {[\"apples\", \"bananas\"]: 2, \"pineapples\": 1}\n",
    "for product in shopping_list:\n",
    "    print(product)"
   ]
  },
  {
   "cell_type": "code",
   "execution_count": null,
   "metadata": {
    "collapsed": true
   },
   "outputs": [],
   "source": [
    "# Problem 10\n",
    "word = \"bananas\"\n",
    "if word[0] = \"b\":\n",
    "    print(word)"
   ]
  },
  {
   "cell_type": "markdown",
   "metadata": {},
   "source": [
    "### Built-ins\n",
    "\n",
    "Which built-in method would you use to.."
   ]
  },
  {
   "cell_type": "markdown",
   "metadata": {
    "collapsed": true
   },
   "source": [
    "Open a file?"
   ]
  },
  {
   "cell_type": "code",
   "execution_count": null,
   "metadata": {
    "collapsed": true
   },
   "outputs": [],
   "source": []
  },
  {
   "cell_type": "markdown",
   "metadata": {},
   "source": [
    "Get text input from a user?"
   ]
  },
  {
   "cell_type": "code",
   "execution_count": null,
   "metadata": {
    "collapsed": true
   },
   "outputs": [],
   "source": []
  },
  {
   "cell_type": "markdown",
   "metadata": {},
   "source": [
    "Turn an integer into a string?"
   ]
  },
  {
   "cell_type": "code",
   "execution_count": null,
   "metadata": {
    "collapsed": true
   },
   "outputs": [],
   "source": []
  },
  {
   "cell_type": "markdown",
   "metadata": {},
   "source": [
    "Learn more about how to use a particular function?"
   ]
  },
  {
   "cell_type": "code",
   "execution_count": null,
   "metadata": {
    "collapsed": true
   },
   "outputs": [],
   "source": []
  },
  {
   "cell_type": "markdown",
   "metadata": {},
   "source": [
    "Get a copy of a list of numbers, ordered from low to high?"
   ]
  },
  {
   "cell_type": "code",
   "execution_count": null,
   "metadata": {
    "collapsed": true
   },
   "outputs": [],
   "source": []
  },
  {
   "cell_type": "markdown",
   "metadata": {},
   "source": [
    "Find out how many characters (including spaces etc.) are in a string?"
   ]
  },
  {
   "cell_type": "code",
   "execution_count": null,
   "metadata": {
    "collapsed": true
   },
   "outputs": [],
   "source": []
  },
  {
   "cell_type": "markdown",
   "metadata": {},
   "source": [
    "### Code writing/completion"
   ]
  },
  {
   "cell_type": "markdown",
   "metadata": {
    "collapsed": true
   },
   "source": [
    "Imagine there are two files:\n",
    "1. words1.txt\n",
    "2. words2.txt\n",
    "\n",
    "Each line in the file contains one word, e.g.:\n",
    "```\n",
    "attic\n",
    "tearful\n",
    "tailgate\n",
    "hydraulically\n",
    "unsparing\n",
    "....\n",
    "```\n",
    "\n",
    "Both files contain 1000 lines."
   ]
  },
  {
   "cell_type": "markdown",
   "metadata": {},
   "source": [
    "In the cell below, please write the code to:\n",
    "1. loop through the file **words1.txt**\n",
    "2. remove the newline character from each line\n",
    "3. append the line (without newline character) to a list"
   ]
  },
  {
   "cell_type": "code",
   "execution_count": null,
   "metadata": {
    "collapsed": true
   },
   "outputs": [],
   "source": []
  },
  {
   "cell_type": "markdown",
   "metadata": {},
   "source": [
    "In the cell below, please write the code to:\n",
    "1. loop through the file **words1.txt**\n",
    "2. remove the newline character from each line\n",
    "3. append all lines that start with 'a', 'c', 'd', and 'z' to a list"
   ]
  },
  {
   "cell_type": "code",
   "execution_count": null,
   "metadata": {
    "collapsed": true
   },
   "outputs": [],
   "source": []
  },
  {
   "cell_type": "markdown",
   "metadata": {},
   "source": [
    "In the cell below, please write the code to:\n",
    "1. loop through the file **words1.txt**\n",
    "2. remove the newline character from each line\n",
    "3. replace all 'l' with 'b'\n",
    "4. replace all 'b' with 'a'\n",
    "5. append the results from each line to a list"
   ]
  },
  {
   "cell_type": "code",
   "execution_count": null,
   "metadata": {
    "collapsed": true
   },
   "outputs": [],
   "source": []
  },
  {
   "cell_type": "markdown",
   "metadata": {},
   "source": [
    "In the cell below, please write the code to:\n",
    "1. save all words in a set that occur in **words1.txt**"
   ]
  },
  {
   "cell_type": "code",
   "execution_count": null,
   "metadata": {
    "collapsed": true
   },
   "outputs": [],
   "source": []
  },
  {
   "cell_type": "markdown",
   "metadata": {},
   "source": [
    "In the cell below, please write the code to:\n",
    "1. save all words in a list that occur in both **words1.txt** and **words2.txt**"
   ]
  },
  {
   "cell_type": "code",
   "execution_count": null,
   "metadata": {
    "collapsed": true
   },
   "outputs": [],
   "source": []
  },
  {
   "cell_type": "markdown",
   "metadata": {},
   "source": [
    "In the cell below, please write the code to:\n",
    "1. count how many lines start with 't'"
   ]
  },
  {
   "cell_type": "code",
   "execution_count": null,
   "metadata": {
    "collapsed": true
   },
   "outputs": [],
   "source": []
  },
  {
   "cell_type": "markdown",
   "metadata": {},
   "source": [
    "In the cell below write the code to:\n",
    "1. write a function that returns for **words1.txt** a dictionary that combines all lines that start with the same beginletter in a list:\n",
    "```\n",
    "{'a' : ['attic'],\n",
    " 'h' : ['hydraulically'],\n",
    " 't' : ['tearful', 'tailgate'],\n",
    " 'u' : ['unsparing']\n",
    " }\n",
    "```\n"
   ]
  },
  {
   "cell_type": "code",
   "execution_count": null,
   "metadata": {
    "collapsed": true
   },
   "outputs": [],
   "source": []
  }
 ],
 "metadata": {
  "anaconda-cloud": {},
  "kernelspec": {
   "display_name": "Python [default]",
   "language": "python",
   "name": "python3"
  },
  "language_info": {
   "codemirror_mode": {
    "name": "ipython",
    "version": 3
   },
   "file_extension": ".py",
   "mimetype": "text/x-python",
   "name": "python",
   "nbconvert_exporter": "python",
   "pygments_lexer": "ipython3",
   "version": "3.5.2"
  }
 },
 "nbformat": 4,
 "nbformat_minor": 1
}
