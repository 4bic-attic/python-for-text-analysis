{
 "cells": [
  {
   "cell_type": "markdown",
   "metadata": {},
   "source": [
    "# Assignment: Writing functions & Reading and writing files\n",
    "\n",
    "## Due: Tuesday the 15th of November 2016 15:00 p.m.\n",
    "\n",
    "Please name your ipython notebook with the following naming convention: ASSIGNMENT_2_FIRSTNAME_LASTNAME.ipynb \n",
    "\n",
    "Please send your assignment to c.m.van.son@vu.nl"
   ]
  },
  {
   "cell_type": "markdown",
   "metadata": {},
   "source": [
    "### Exercise 1: Introduce yourself\n",
    "\n",
    "Write a function that can be used for anyone to introduce themselves. It should take as input:\n",
    "1. the name of the person\n",
    "2. the age of the person\n",
    "3. the home town of the person\n",
    "4. the brothers of the person (a list of names)\n",
    "5. the sisters of the person (a list of names)\n",
    "\n",
    "For me, it should print the following lines:\n",
    "\n",
    "*Hello, my name is Chantal.  \n",
    "I am 26 years old.  \n",
    "I live in Uitgeest.  \n",
    "I have 1 brother. His name is Dennis.  \n",
    "I have 1 sister. Her name is Kelly.*  \n",
    "\n",
    "For a friend of mine, it should print:\n",
    "\n",
    "*Hello, my name is Susanne.  \n",
    "I am 25 years old.  \n",
    "I live in Heemskerk.  \n",
    "I have 3 brothers. Their names are Niels, Menno and Pim.  \n",
    "I have no sisters.*"
   ]
  },
  {
   "cell_type": "code",
   "execution_count": null,
   "metadata": {
    "collapsed": false
   },
   "outputs": [],
   "source": [
    "# Tip: Did you know that you can format a string as follows?\n",
    "name = \"Chantal\"\n",
    "print(\"Hello, my name is %s.\" %name)"
   ]
  },
  {
   "cell_type": "code",
   "execution_count": null,
   "metadata": {
    "collapsed": false
   },
   "outputs": [],
   "source": [
    "# Write your function here"
   ]
  },
  {
   "cell_type": "code",
   "execution_count": null,
   "metadata": {
    "collapsed": false
   },
   "outputs": [],
   "source": [
    "# Test your function here!\n",
    "introduce_yourself(\"Chantal\", \"26\", \"Uitgeest\", [\"Dennis\"], [\"Kelly\"])"
   ]
  },
  {
   "cell_type": "code",
   "execution_count": null,
   "metadata": {
    "collapsed": false
   },
   "outputs": [],
   "source": [
    "# Test your function here!\n",
    "introduce_yourself(\"Susanne\", \"25\", \"Heemskerk\", [\"Niels\", \"Menno\", \"Pim\"], [])"
   ]
  },
  {
   "cell_type": "markdown",
   "metadata": {},
   "source": [
    "### Exercise 2: Beersong - The Sequel\n",
    "\n",
    "Rewrite the code you made in Assignment 1. You have to make two changes:\n",
    "1. Make a function of it that takes as an argument the amount of bottles of beer to start with. Name the function `print_beersong`.\n",
    "2. Print the numbers as text instead of digits: \"ninety nine bottles\" instead of \"99\".\n",
    "3. If someone tries to begin from a higher number than 99, return a message that this is unfortunately not possible."
   ]
  },
  {
   "cell_type": "code",
   "execution_count": null,
   "metadata": {
    "collapsed": true
   },
   "outputs": [],
   "source": [
    "# Write your function here"
   ]
  },
  {
   "cell_type": "code",
   "execution_count": null,
   "metadata": {
    "collapsed": false
   },
   "outputs": [],
   "source": [
    "# Check your code by calling the function:\n",
    "print_beersong(50)"
   ]
  },
  {
   "cell_type": "markdown",
   "metadata": {},
   "source": [
    "### Exercise 3: Pronouns in Charlie & The Chocolate Factory\n",
    "\n",
    "In the Notebook of Topic 3, you have replaced the names of Charlie and Mr Wonka with the names of yourself and a friend of yours. However, if you or your friend is female, you are probably not too happy with the resulting personalized version of the story...\n",
    "\n",
    "Write a program that does not only replace the names, but also checks the gender of you and your friend and replaces all male pronouns (e.g. *he* and *him*) by their female equivalents (e.g. *she* and *her*) if necessary. Write the improved version of the personalized story to a new file.\n",
    "\n",
    "Hint: paragraph 1 in the story is about Charlie, and paragraph 2 is about Mr Wonka."
   ]
  },
  {
   "cell_type": "code",
   "execution_count": null,
   "metadata": {
    "collapsed": true
   },
   "outputs": [],
   "source": [
    "# Specify the names and genders\n",
    "your_name = \"\"\n",
    "friends_name = \"\"\n",
    "your_gender = \"\"\n",
    "friends_gender = \"\"\n",
    "\n",
    "# Read the file `charlie.txt` in the `Data/Charlie` folder and manipulate its content\n",
    "\n",
    "\n",
    "# Write the manipulated content to a new file `charlie_improved.txt` in the `Data/Charlie` folder"
   ]
  },
  {
   "cell_type": "markdown",
   "metadata": {},
   "source": [
    "### Exercise 4: Finding files and directories\n",
    "**Exercise (a):** Use the `glob` module to print the paths of all files and directories in the `Data` folder."
   ]
  },
  {
   "cell_type": "code",
   "execution_count": null,
   "metadata": {
    "collapsed": false
   },
   "outputs": [],
   "source": [
    "# Write your code here"
   ]
  },
  {
   "cell_type": "markdown",
   "metadata": {},
   "source": [
    "**Exercise (b):** Use the `glob` module to find and print the paths of all CSV files in the `Data` folder and its subdirectories."
   ]
  },
  {
   "cell_type": "code",
   "execution_count": null,
   "metadata": {
    "collapsed": false
   },
   "outputs": [],
   "source": [
    "# Write your code here"
   ]
  },
  {
   "cell_type": "markdown",
   "metadata": {},
   "source": [
    "**Exercise (c):** Use the `glob` module to find and print the paths of all files consisting of exactly two characters plus the extension `.TXT` in the `Data` folder and its subdirectories."
   ]
  },
  {
   "cell_type": "code",
   "execution_count": null,
   "metadata": {
    "collapsed": false
   },
   "outputs": [],
   "source": [
    "# Write your code here"
   ]
  },
  {
   "cell_type": "markdown",
   "metadata": {},
   "source": [
    "### Exercise 5: The 2016 Presidential Debate\n",
    "\n",
    "In this exercise, you will learn how to find out how Trump and Clinton are talking about certain topics.\n",
    "\n",
    "#### Exercise (a): Get all transcripts about women\n",
    "Write a program that reads `debate.csv`, iterates over all rows and checks whether the transcript (the text) contains the mention \"women\". If it does, add it to a list called `Trump_about_women` or `Clinton_about_women`, depending on who the speaker is."
   ]
  },
  {
   "cell_type": "code",
   "execution_count": null,
   "metadata": {
    "collapsed": false
   },
   "outputs": [],
   "source": [
    "# Write your code here"
   ]
  },
  {
   "cell_type": "code",
   "execution_count": null,
   "metadata": {
    "collapsed": false
   },
   "outputs": [],
   "source": [
    "# Test your code here! If your code is correct, you should get a compliment :-)\n",
    "assert(len(Trump_about_women) == 8 and len(Clinton_about_women) == 21)\n",
    "print(\"Well done!\")"
   ]
  },
  {
   "cell_type": "markdown",
   "metadata": {},
   "source": [
    "Curious what they both have to say about women? Execute the following code:"
   ]
  },
  {
   "cell_type": "code",
   "execution_count": null,
   "metadata": {
    "collapsed": false
   },
   "outputs": [],
   "source": [
    "for transcript in Trump_about_women:\n",
    "    print(transcript)"
   ]
  },
  {
   "cell_type": "code",
   "execution_count": null,
   "metadata": {
    "collapsed": false
   },
   "outputs": [],
   "source": [
    "for transcript in Clinton_about_women:\n",
    "    print(transcript)"
   ]
  },
  {
   "cell_type": "markdown",
   "metadata": {},
   "source": [
    "#### Exercise (b): Write a function to get all sentences from Trump and Clinton about a certain topic\n",
    "Write a function called `get_sentences_about` that does the following things:\n",
    "1. Takes two arguments: (1) the rows representing all transcripts, (2) the string of the topic (e.g. \"women\", \"immigrants\", etc.).\n",
    "2. Iterates over all transcripts.\n",
    "3. Splits the text of each transcript into sentences (use the NLTK sentence splitter).\n",
    "4. Iterates over each sentence and checks whether the topic is mentioned in the sentence.\n",
    "5. Append Trump's sentences about the topic to a list called `Trump_about_X`, and do the same for Clinton.\n",
    "6. Return both lists."
   ]
  },
  {
   "cell_type": "code",
   "execution_count": null,
   "metadata": {
    "collapsed": true
   },
   "outputs": [],
   "source": [
    "# Write your code here"
   ]
  },
  {
   "cell_type": "markdown",
   "metadata": {},
   "source": [
    "Call the function you created above to get and print all sentences from Trump and Clinton about immigrants."
   ]
  },
  {
   "cell_type": "code",
   "execution_count": null,
   "metadata": {
    "collapsed": false
   },
   "outputs": [],
   "source": [
    "# Write your code here"
   ]
  }
 ],
 "metadata": {
  "kernelspec": {
   "display_name": "Python 3",
   "language": "python",
   "name": "python3"
  },
  "language_info": {
   "codemirror_mode": {
    "name": "ipython",
    "version": 3
   },
   "file_extension": ".py",
   "mimetype": "text/x-python",
   "name": "python",
   "nbconvert_exporter": "python",
   "pygments_lexer": "ipython3",
   "version": "3.5.2"
  }
 },
 "nbformat": 4,
 "nbformat_minor": 0
}
