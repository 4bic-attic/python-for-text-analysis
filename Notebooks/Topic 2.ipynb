{
 "cells": [
  {
   "cell_type": "markdown",
   "metadata": {},
   "source": [
    "# Topic 2- Understanding strings and list methods + boolean expressions\n",
    "Python has a lot to offer. You can already do lots of things by just using what is already built in. However, it's of course important to understand how they work. This week, we will get a better understanding of *strings* and *lists*, with a focus on the built-in methods. In addition, we will explain the most important elements of these methods. Finally, we will introduce a core element of programming: boolean expressions. These are very useful for **if statements**, which might be the most used thing in Python."
   ]
  },
  {
   "cell_type": "markdown",
   "metadata": {},
   "source": [
    "### At the end of this topic, you will be able to\n",
    "* work with and understand *boolean expressions*\n",
    "* work with and understand *if statements*\n",
    "* understand what *indentation* is\n",
    "* understand *args* and *kwargs*\n",
    "* get a better understanding of *string* methods\n",
    "* get a better understanding of *list* methods"
   ]
  },
  {
   "cell_type": "markdown",
   "metadata": {},
   "source": [
    "### This requires that you already have (some) knowledge about:\n",
    "* basic types \n",
    "* basic knowledge of string and list methods"
   ]
  },
  {
   "cell_type": "markdown",
   "metadata": {},
   "source": [
    "### If you want to learn more about these topics, you might find the following links useful:\n",
    "* [string methods](https://docs.python.org/3/library/stdtypes.html#string-methods)\n",
    "* [list methods](https://docs.python.org/3/tutorial/datastructures.html)\n",
    "* [args and kwargs](http://thepythonguru.com/python-args-and-kwargs/)\n",
    "* [boolean expressions](https://docs.python.org/3.5/library/stdtypes.html#)\n",
    "* [if elif else](http://www.programiz.com/python-programming/if-elif-else)\n",
    "* [Raymond Hettinger talk, not directly related, but it is just a very nice talk](https://www.youtube.com/watch?v=OSGv2VnC0go)"
   ]
  },
  {
   "cell_type": "markdown",
   "metadata": {},
   "source": [
    "## Subtopic: Boolean expressions\n",
    "An expression that results in the type `bool' in Python. Possible values are either True or False. Boolean expression are the building blocks of programming. Any expression that results in True or False can be considered a boolean expression. Here is a list of [comparison operators](https://docs.python.org/3.5/library/stdtypes.html#comparisons) used in boolean expressions:"
   ]
  },
  {
   "cell_type": "markdown",
   "metadata": {},
   "source": [
    "| Operator | function |\n",
    "|-----------|--------|\n",
    "| `<` | less than|\n",
    "| `<=` |\tless than or equal to \t|  \t \n",
    "| `>` |\tgreater than \t  \t |\n",
    "| `>=` |\tgreather than or equal to \t  \t |\n",
    "| `==` |\tequal\t |\n",
    "| `!=` |\tnot equal\t|\n"
   ]
  },
  {
   "cell_type": "markdown",
   "metadata": {},
   "source": [
    "So far you've seen:"
   ]
  },
  {
   "cell_type": "code",
   "execution_count": 1,
   "metadata": {
    "collapsed": false
   },
   "outputs": [
    {
     "name": "stdout",
     "output_type": "stream",
     "text": [
      "<class 'str'>\n",
      "<class 'list'>\n"
     ]
    }
   ],
   "source": [
    "print(type('this is a string'))\n",
    "print(type(['this is a list']))"
   ]
  },
  {
   "cell_type": "markdown",
   "metadata": {},
   "source": [
    "now we're introducing:"
   ]
  },
  {
   "cell_type": "code",
   "execution_count": 2,
   "metadata": {
    "collapsed": false
   },
   "outputs": [
    {
     "name": "stdout",
     "output_type": "stream",
     "text": [
      "<class 'bool'>\n",
      "<class 'bool'>\n"
     ]
    }
   ],
   "source": [
    "print(type(False))\n",
    "print(type(True))"
   ]
  },
  {
   "cell_type": "markdown",
   "metadata": {},
   "source": [
    "### Let's look at some examples\n",
    "Try to guess the output based on the information about the operators in the table above. Hence, will the expression result in True or False in the following examples?"
   ]
  },
  {
   "cell_type": "code",
   "execution_count": 3,
   "metadata": {
    "collapsed": false
   },
   "outputs": [
    {
     "name": "stdout",
     "output_type": "stream",
     "text": [
      "True\n",
      "False\n"
     ]
    }
   ],
   "source": [
    "print(5 == 5)\n",
    "print(5 == 4)"
   ]
  },
  {
   "cell_type": "code",
   "execution_count": 4,
   "metadata": {
    "collapsed": false
   },
   "outputs": [
    {
     "name": "stdout",
     "output_type": "stream",
     "text": [
      "False\n"
     ]
    }
   ],
   "source": [
    "boolean_expression = 5 == 4\n",
    "print(boolean_expression)"
   ]
  },
  {
   "cell_type": "code",
   "execution_count": 5,
   "metadata": {
    "collapsed": false
   },
   "outputs": [
    {
     "name": "stdout",
     "output_type": "stream",
     "text": [
      "True\n",
      "False\n",
      "False\n",
      "True\n",
      "False\n",
      "True\n",
      "False\n",
      "True\n"
     ]
    }
   ],
   "source": [
    "print(10 < 20)\n",
    "print(10 < 8)\n",
    "print(10 < 10)\n",
    "print(10 <= 10)\n",
    "print(20 >= 21)\n",
    "print(20 == 20)\n",
    "print(1  == '1')\n",
    "print(1 != 2)"
   ]
  },
  {
   "cell_type": "markdown",
   "metadata": {},
   "source": [
    "### [Membership operators](https://docs.python.org/3.5/reference/expressions.html#not-in)\n",
    "Python also has so-called membership operators:\n",
    "\n",
    "| Operator | function |\n",
    "|-----------|--------|\n",
    "| `in` | True if variable (left of operator) is in other variable (right of operator) |\n",
    "| `not in` |\t True if variable (left of operator) is NOT in other variable (right of operator) \t|  \n"
   ]
  },
  {
   "cell_type": "code",
   "execution_count": 6,
   "metadata": {
    "collapsed": false
   },
   "outputs": [
    {
     "name": "stdout",
     "output_type": "stream",
     "text": [
      "True\n",
      "True\n",
      "True\n",
      "True\n"
     ]
    }
   ],
   "source": [
    "letters = ['a','b','c','d']\n",
    "numbers = [1,2,3,4,5]\n",
    "\n",
    "print('a' in letters)\n",
    "print('g' not in letters)\n",
    "print(1 in numbers)\n",
    "print('a' not in 'hello world')"
   ]
  },
  {
   "cell_type": "markdown",
   "metadata": {},
   "source": [
    "### [Boolean operations](https://docs.python.org/3.5/library/stdtypes.html#boolean-operations-and-or-not)\n",
    "Finally, the most common boolean operations are performed using the operators **and**, **or**, and **not**. Given two boolean expressions, **bool1** and **bool2**, this is how they work:\n",
    "\n",
    "| operation | function |\n",
    "|-----------|--------|\n",
    "| **bool1** `and` **bool2** | True if both **bool1** and **bool2** are True, otherwise False |\n",
    "| **bool1** `or` **bool2** |\tTrue when at least one of the boolean expressions is True, otherwise False\t|  \n",
    "| `not` **bool1** | True if **bool1** is False, otherwise True | "
   ]
  },
  {
   "cell_type": "markdown",
   "metadata": {},
   "source": [
    "an example of **and**:"
   ]
  },
  {
   "cell_type": "code",
   "execution_count": 7,
   "metadata": {
    "collapsed": false
   },
   "outputs": [
    {
     "name": "stdout",
     "output_type": "stream",
     "text": [
      "True\n",
      "False\n"
     ]
    }
   ],
   "source": [
    "letters = ['a','b','c','d']\n",
    "numbers = [1,2,3,4,5]\n",
    "\n",
    "print('a' in letters and 2 in numbers)\n",
    "print(5 < 1 and 3 in numbers)"
   ]
  },
  {
   "cell_type": "markdown",
   "metadata": {},
   "source": [
    "an example of **or**:"
   ]
  },
  {
   "cell_type": "code",
   "execution_count": 8,
   "metadata": {
    "collapsed": false
   },
   "outputs": [
    {
     "name": "stdout",
     "output_type": "stream",
     "text": [
      "True\n",
      "True\n",
      "False\n"
     ]
    }
   ],
   "source": [
    "letters = ['a','b','c','d']\n",
    "numbers = [1,2,3,4,5]\n",
    "\n",
    "print('f' in letters or 2 in numbers)\n",
    "print('a' in letters or 2 in numbers)\n",
    "print('f' in letters or 10 in numbers)"
   ]
  },
  {
   "cell_type": "markdown",
   "metadata": {},
   "source": [
    "an example of **not**:"
   ]
  },
  {
   "cell_type": "code",
   "execution_count": 9,
   "metadata": {
    "collapsed": false
   },
   "outputs": [
    {
     "name": "stdout",
     "output_type": "stream",
     "text": [
      "True\n"
     ]
    }
   ],
   "source": [
    "value = 5\n",
    "print(not value == 4)"
   ]
  },
  {
   "cell_type": "markdown",
   "metadata": {},
   "source": [
    "It's important to practice a lot with boolean expressions. Here is a list of them (try guessing the output):"
   ]
  },
  {
   "cell_type": "code",
   "execution_count": 10,
   "metadata": {
    "collapsed": false
   },
   "outputs": [
    {
     "name": "stdout",
     "output_type": "stream",
     "text": [
      "True\n",
      "False\n",
      "False\n",
      "True\n",
      "True\n",
      "True\n",
      "False\n",
      "True\n",
      "False\n",
      "False\n",
      "True\n",
      "False\n",
      "True\n",
      "False\n",
      "False\n",
      "False\n",
      "True\n",
      "True\n",
      "False\n",
      "False\n"
     ]
    }
   ],
   "source": [
    "#source: http://learnpythonthehardway.org/book/ex28.html\n",
    "print(True and True)\n",
    "print(False and True)\n",
    "print(1 == 1 and 2 == 1)\n",
    "print(\"test\" == \"test\")\n",
    "print(1 == 1 or 2 != 1)\n",
    "print(True and 1 == 1)\n",
    "print(False and 0 != 0)\n",
    "print(True or 1 == 1)\n",
    "print(\"test\" == \"testing\")\n",
    "print(1 != 0 and 2 == 1)\n",
    "print(\"test\" != \"testing\")\n",
    "print(\"test\" == 1)\n",
    "print(not (True and False))\n",
    "print(not (1 == 1 and 0 != 1))\n",
    "print(not (10 == 1 or 1000 == 1000))\n",
    "print(not (1 != 10 or 3 == 4))\n",
    "print(not (\"testing\" == \"testing\" and \"Zed\" == \"Cool Guy\"))\n",
    "print(1 == 1 and (not (\"testing\" == 1 or 1 == 0)))\n",
    "print(\"chunky\" == \"bacon\" and (not (3 == 4 or 3 == 3)))\n",
    "print(3 == 3 and (not (\"testing\" == \"testing\" or \"Python\" == \"Fun\")))"
   ]
  },
  {
   "cell_type": "markdown",
   "metadata": {},
   "source": [
    "### [All and any](https://docs.python.org/3/library/functions.html#all) \n",
    "Finally, take a look at the following example. Do you think is clear?"
   ]
  },
  {
   "cell_type": "code",
   "execution_count": 11,
   "metadata": {
    "collapsed": false
   },
   "outputs": [
    {
     "name": "stdout",
     "output_type": "stream",
     "text": [
      "True\n"
     ]
    }
   ],
   "source": [
    "print(\"test\" != \"testing\" and 1 == 1 and 2 == 2 and 20 in [1, 20, 3, 4,5])"
   ]
  },
  {
   "cell_type": "markdown",
   "metadata": {},
   "source": [
    "Personally, I don't think these examples are clear. Luckily, Python has another trick to deal with these examples. Given a list of boolean expressions, this is how they work:\n",
    "\n",
    "| operation | function |\n",
    "|-----------|--------|\n",
    "| `all` | True if all boolean expressions are True, otherwise False |\t\n",
    "| `any` | True if at least one boolean expression is True, otherwise False |"
   ]
  },
  {
   "cell_type": "code",
   "execution_count": 12,
   "metadata": {
    "collapsed": false
   },
   "outputs": [
    {
     "name": "stdout",
     "output_type": "stream",
     "text": [
      "True\n",
      "False\n",
      "True\n"
     ]
    }
   ],
   "source": [
    "letters = ['a','b','c','d']\n",
    "numbers = [1,2,3,4,5]\n",
    "\n",
    "boolean_expression1 =  all(['a' in letters, \n",
    "                            2 in numbers])\n",
    "boolean_expression2 =  all(['a' in letters, \n",
    "                            20 in numbers])\n",
    "boolean_expression3 = all([]) # think about this one!\n",
    "print(boolean_expression1)\n",
    "print(boolean_expression2)\n",
    "print(boolean_expression3)\n",
    "\n"
   ]
  },
  {
   "cell_type": "code",
   "execution_count": 13,
   "metadata": {
    "collapsed": false
   },
   "outputs": [
    {
     "name": "stdout",
     "output_type": "stream",
     "text": [
      "False\n",
      "True\n",
      "False\n"
     ]
    }
   ],
   "source": [
    "letters = ['a','b','c','d']\n",
    "numbers = [1,2,3,4,5]\n",
    "\n",
    "boolean_expression1 =  any(['f' in letters, \n",
    "                            200 in numbers])\n",
    "boolean_expression2 =  any(['a' in letters, \n",
    "                            20 in numbers])\n",
    "boolean_expression3 = any([])\n",
    "print(boolean_expression1)\n",
    "print(boolean_expression2)\n",
    "print(boolean_expression3)"
   ]
  },
  {
   "cell_type": "markdown",
   "metadata": {},
   "source": [
    "## Subtopic: If statements\n",
    "You might wonder why I took quite some time explaining boolean expresisons. One of the reasons is that they are the main element in probably one of the most used things in Python: **if statements**. The following picture explains what happens in an if statement in Python.\n",
    "![alt text](images/if_else_statement.jpg \"Logo Title Text 1\")"
   ]
  },
  {
   "cell_type": "markdown",
   "metadata": {},
   "source": [
    "Let's look at an example (modify the value of *number* to understand what is happening here):"
   ]
  },
  {
   "cell_type": "code",
   "execution_count": 14,
   "metadata": {
    "collapsed": false
   },
   "outputs": [
    {
     "name": "stdout",
     "output_type": "stream",
     "text": [
      "2\n"
     ]
    }
   ],
   "source": [
    "number = 2 # try changing this value to 6\n",
    "if number <= 5:\n",
    "    print(number)"
   ]
  },
  {
   "cell_type": "markdown",
   "metadata": {},
   "source": [
    "However, we also want to execute code when the number if higher than 5. This can be done using the **else** statement (modify the value of *number* to understand what is happening here)."
   ]
  },
  {
   "cell_type": "code",
   "execution_count": 15,
   "metadata": {
    "collapsed": false
   },
   "outputs": [
    {
     "name": "stdout",
     "output_type": "stream",
     "text": [
      "number is higher than 5\n"
     ]
    }
   ],
   "source": [
    "number = 10 # try changing this value to 2\n",
    "if number <= 5:\n",
    "    print(number)\n",
    "else:\n",
    "    print('number is higher than 5')"
   ]
  },
  {
   "cell_type": "markdown",
   "metadata": {},
   "source": [
    "### Indentation\n",
    "Let's take another look at the example from above (I've added line numbers):\n",
    "```python\n",
    "1. if number <= 5:\n",
    "2.     print(number)\n",
    "3. else:\n",
    "4.    print('number is higher than 5')\n",
    "```\n",
    "You might have noticed that line 2 starts with 4 spaces. This is on purpose! When the boolean expression in line 1 is True, Python executes the code from the next line that starts four spaces (an indent) to the right. This is called indentation. For those interested in why we use spaces and not tabs for indentation, we refer to [stackoverflow](http://stackoverflow.com/questions/120926/why-does-python-pep-8-strongly-recommend-spaces-over-tabs-for-indentation)."
   ]
  },
  {
   "cell_type": "markdown",
   "metadata": {},
   "source": [
    "**if statements** are often used within a for loop. So let's take our example from above and use it in a for loop."
   ]
  },
  {
   "cell_type": "code",
   "execution_count": 16,
   "metadata": {
    "collapsed": false
   },
   "outputs": [
    {
     "name": "stdout",
     "output_type": "stream",
     "text": [
      "0\n",
      "1\n",
      "2\n",
      "3\n",
      "4\n",
      "5\n",
      "number is higher than 5\n",
      "number is higher than 5\n",
      "number is higher than 5\n",
      "number is higher than 5\n"
     ]
    }
   ],
   "source": [
    "for number in range(10):\n",
    "    if number <= 5:\n",
    "        print(number)\n",
    "    else:\n",
    "        print('number is higher than 5')"
   ]
  },
  {
   "cell_type": "markdown",
   "metadata": {
    "collapsed": true
   },
   "source": [
    "Finally, sometimes we want to check multiple conditions in an efficient way in our **if statements**. This is also possible in Python with the **elif** statement. (try adding and remove some **elif** statements and see what happens)"
   ]
  },
  {
   "cell_type": "code",
   "execution_count": 17,
   "metadata": {
    "collapsed": false
   },
   "outputs": [
    {
     "name": "stdout",
     "output_type": "stream",
     "text": [
      "IF:  0\n",
      "IF:  1\n",
      "IF:  2\n",
      "IF:  3\n",
      "IF:  4\n",
      "IF:  5\n",
      "ELIF: we found 6\n",
      "ELIF: we found 7\n",
      "ELSE: above 7, namely:  8\n",
      "ELSE: above 7, namely:  9\n"
     ]
    }
   ],
   "source": [
    "for number in range(10):\n",
    "    if number <= 5:\n",
    "        print('IF: ', number)\n",
    "    elif number == 6:\n",
    "        print('ELIF: we found 6')\n",
    "    elif number == 7:\n",
    "        print('ELIF: we found 7')\n",
    "    else:\n",
    "        print('ELSE: above 7, namely: ', number)"
   ]
  },
  {
   "cell_type": "markdown",
   "metadata": {},
   "source": [
    "## Subtopic: Arguments (args) and keyword arguments (kwargs)\n",
    "A good understanding of the terms **args** and **kwargs** is important for list and string methods. Let's look at a couple examples:"
   ]
  },
  {
   "cell_type": "code",
   "execution_count": 18,
   "metadata": {
    "collapsed": false
   },
   "outputs": [
    {
     "name": "stdout",
     "output_type": "stream",
     "text": [
      "example 1. upper method: HELLO WORLD\n",
      "example 2. count method: 3\n",
      "example 3. replace method: hebbo worbd\n",
      "example 4. split method: ['hello', 'world']\n",
      "example 5. split method: ['hell', ' w', 'rld']\n"
     ]
    }
   ],
   "source": [
    "a_string = 'hello world'\n",
    "print('example 1. upper method:', a_string.upper())\n",
    "print('example 2. count method:', a_string.count('l'))\n",
    "print('example 3. replace method:', a_string.replace('l', 'b'))\n",
    "print('example 4. split method:', a_string.split())\n",
    "print('example 5. split method:', a_string.split(sep='o'))"
   ]
  },
  {
   "cell_type": "markdown",
   "metadata": {},
   "source": [
    "the argument *'l'* in example 2 is an argument. *sep='o'* in example 5 is an example of a keyword argument. Let's analyze the examples.\n",
    "\n",
    "| example | arguments (args) | keyword arguments (kwargs) |\n",
    "|---------|------------------|----------------------------|\n",
    "| `1`     | 0                | 0                          |\n",
    "| `2`     | 1                | 0                          |\n",
    "| `3`     | 2                | 0                          |\n",
    "| `4`     | 0                | 0                          |\n",
    "| `5`     | 0                | 1                          |"
   ]
  },
  {
   "cell_type": "markdown",
   "metadata": {},
   "source": [
    "This might look a bit confusing, because sometimes methods have arguments and/or keyword arguments and sometimes they do not. Luckily Python has a built-in function **help**, which provides us insight into how to use each method."
   ]
  },
  {
   "cell_type": "code",
   "execution_count": 19,
   "metadata": {
    "collapsed": false
   },
   "outputs": [
    {
     "name": "stdout",
     "output_type": "stream",
     "text": [
      "Help on method_descriptor:\n",
      "\n",
      "upper(...)\n",
      "    S.upper() -> str\n",
      "    \n",
      "    Return a copy of S converted to uppercase.\n",
      "\n"
     ]
    }
   ],
   "source": [
    "help(str.upper)"
   ]
  },
  {
   "cell_type": "markdown",
   "metadata": {},
   "source": [
    "we learn that **str.upper** takes no arguments and no keyword arguments."
   ]
  },
  {
   "cell_type": "code",
   "execution_count": 20,
   "metadata": {
    "collapsed": false
   },
   "outputs": [
    {
     "name": "stdout",
     "output_type": "stream",
     "text": [
      "Help on method_descriptor:\n",
      "\n",
      "count(...)\n",
      "    S.count(sub[, start[, end]]) -> int\n",
      "    \n",
      "    Return the number of non-overlapping occurrences of substring sub in\n",
      "    string S[start:end].  Optional arguments start and end are\n",
      "    interpreted as in slice notation.\n",
      "\n"
     ]
    }
   ],
   "source": [
    "help(str.count)"
   ]
  },
  {
   "cell_type": "markdown",
   "metadata": {},
   "source": [
    "we learn that **str.count** takes one argument (*sub*). You can ignore the information between brackets for now."
   ]
  },
  {
   "cell_type": "code",
   "execution_count": 21,
   "metadata": {
    "collapsed": false
   },
   "outputs": [
    {
     "name": "stdout",
     "output_type": "stream",
     "text": [
      "Help on method_descriptor:\n",
      "\n",
      "replace(...)\n",
      "    S.replace(old, new[, count]) -> str\n",
      "    \n",
      "    Return a copy of S with all occurrences of substring\n",
      "    old replaced by new.  If the optional argument count is\n",
      "    given, only the first count occurrences are replaced.\n",
      "\n"
     ]
    }
   ],
   "source": [
    "help(str.replace)"
   ]
  },
  {
   "cell_type": "markdown",
   "metadata": {},
   "source": [
    "we learn that **str.replace** takes two arguments (*old* and *new*) and no keyword arguments."
   ]
  },
  {
   "cell_type": "code",
   "execution_count": 22,
   "metadata": {
    "collapsed": false
   },
   "outputs": [
    {
     "name": "stdout",
     "output_type": "stream",
     "text": [
      "Help on method_descriptor:\n",
      "\n",
      "split(...)\n",
      "    S.split(sep=None, maxsplit=-1) -> list of strings\n",
      "    \n",
      "    Return a list of the words in S, using sep as the\n",
      "    delimiter string.  If maxsplit is given, at most maxsplit\n",
      "    splits are done. If sep is not specified or is None, any\n",
      "    whitespace string is a separator and empty strings are\n",
      "    removed from the result.\n",
      "\n"
     ]
    }
   ],
   "source": [
    "help(str.split)"
   ]
  },
  {
   "cell_type": "markdown",
   "metadata": {},
   "source": [
    "Now it becomes interesting. **str.split** has no arguments and two keyword arguments (*sep* and *maxsplit*)."
   ]
  },
  {
   "cell_type": "markdown",
   "metadata": {},
   "source": [
    "#### Difference arguments (args) and keyword arguments (kwargs)\n",
    "* Arguments (args) are **compulsory** in order to call a method\n",
    "* Keyword arguments (kwargs) are **optional**."
   ]
  }
 ],
 "metadata": {
  "anaconda-cloud": {},
  "kernelspec": {
   "display_name": "Python [conda root]",
   "language": "python",
   "name": "conda-root-py"
  },
  "language_info": {
   "codemirror_mode": {
    "name": "ipython",
    "version": 3
   },
   "file_extension": ".py",
   "mimetype": "text/x-python",
   "name": "python",
   "nbconvert_exporter": "python",
   "pygments_lexer": "ipython3",
   "version": "3.5.2"
  }
 },
 "nbformat": 4,
 "nbformat_minor": 1
}
