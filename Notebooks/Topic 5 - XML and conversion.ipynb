{
 "cells": [
  {
   "cell_type": "markdown",
   "metadata": {},
   "source": [
    "# Topic-5: XML\n",
    "Until now, we have already seen quite some data formats (csv, tsv, json, etc). In this week, we will learn how to work with one of the most popular structured data format: [XML](http://www.w3schools.com/xml/). XML is used a lot in NLP and therefore it is important that you know how to work with it. "
   ]
  },
  {
   "cell_type": "markdown",
   "metadata": {},
   "source": [
    "### At the end of this topic, you will be able to\n",
    "* read an XML file/string and extract information from it\n",
    "* understand the conversion from Cat (XML) to CoNLL (tsv) \n",
    "* query through XML using Xpath"
   ]
  },
  {
   "cell_type": "markdown",
   "metadata": {},
   "source": [
    "### This requires that you already have (some) knowledge about:\n",
    "* dictionaries\n",
    "* strings\n",
    "* lists\n",
    "* functions\n",
    "* if elif else statements"
   ]
  },
  {
   "cell_type": "markdown",
   "metadata": {},
   "source": [
    "### If you want to learn more about these topics, you might find the following links useful:\n",
    "* [XML](http://www.w3schools.com/xml/)\n",
    "* [detailled XML introduction](http://www.dfki.de/~uschaefer/esslli09/xmlquerylang.pdf)\n",
    "* [NAF XML](http://www.newsreader-project.eu/files/2013/01/techreport.pdf)\n",
    "* [Xpath](http://www.w3schools.com/xml/xpath_syntax.asp)\n",
    "* Other structured data formats: [JSON-LD](http://json-ld.org/), [MicroData](https://www.w3.org/TR/microdata/), [RDF](https://www.w3.org/RDF/)"
   ]
  },
  {
   "cell_type": "markdown",
   "metadata": {},
   "source": [
    "## Subtopic: XML\n",
    "NLP is all about data. More specifically, we usually want to annotate (manually or automatically) textual data with information about:\n",
    "* [part of speech](https://en.wikipedia.org/wiki/Part_of_speech)\n",
    "* [word senses](https://en.wikipedia.org/wiki/Word_sense)\n",
    "* [entities](https://en.wikipedia.org/wiki/Entity_linking)\n",
    "* [semantic role labelling](https://en.wikipedia.org/wiki/Semantic_role_labeling)\n",
    "* many many many more.....\n",
    "\n",
    "What would data look like that contains all this information? Let's look at a simple example:"
   ]
  },
  {
   "cell_type": "code",
   "execution_count": 1,
   "metadata": {
    "collapsed": true
   },
   "outputs": [],
   "source": [
    "import nltk"
   ]
  },
  {
   "cell_type": "code",
   "execution_count": 2,
   "metadata": {
    "collapsed": false
   },
   "outputs": [
    {
     "name": "stdout",
     "output_type": "stream",
     "text": [
      "[('Tom', 'NNP'), ('Cruise', 'NNP'), ('is', 'VBZ'), ('an', 'DT'), ('actor', 'NN'), ('.', '.')]\n"
     ]
    }
   ],
   "source": [
    "text = nltk.word_tokenize(\"Tom Cruise is an actor.\")\n",
    "print(nltk.pos_tag(text))"
   ]
  },
  {
   "cell_type": "markdown",
   "metadata": {},
   "source": [
    "In this example, we see that the format is a list of [tuples](https://docs.python.org/3/tutorial/datastructures.html#tuples-and-sequences).  The first element of each tuple is the word and the second element is the part of speech tag. Great, so far this works.  However, we also want to indicate that **Tom Cruise** is an entity. Now, we start to run into trouble, because some annotations are for single words and some are for combinations of words. In addition, sometimes we have more than one annotation per token. Data structures such as csv and tsv are not great at **representing** linguistic information. So is there a format that is better at it? The answer is yes and the format is XML. Let's look at an example (the line numbers are there for explanation purpuses). On purpose, we start with a non-linguistic, hopefully intuitive example, and we will move to a linguistic example later on."
   ]
  },
  {
   "cell_type": "markdown",
   "metadata": {},
   "source": [
    "```xml\n",
    "1.  <Course>\n",
    "2.      <person role=\"coordinator\">Van der Vliet</person>\n",
    "3.      <person role=\"instructor\">Van Miltenburg</person>\n",
    "4.      <person role=\"instructor\">Van Son</person>\n",
    "5.      <person role=\"instructor\">Marten Postma</person>\n",
    "6.      <person role=\"student\">Baloche</person>\n",
    "7.      <person role=\"student\">De Boer</person>\n",
    "8.      <animal role=\"student\">Rubber duck</animal>\n",
    "9.      <person role=\"student\">Van Doorn</person>\n",
    "10.     <person role=\"student\">De Jager</person>\n",
    "11.     <person role=\"student\">King</person>\n",
    "12.     <person role=\"student\">Kingham</person>\n",
    "13.     <person role=\"student\">Mózes</person>\n",
    "14.     <person role=\"student\">Rübsaam</person>\n",
    "15.     <person role=\"student\">Torsi</person>\n",
    "16.     <person role=\"student\">Witteman</person>\n",
    "17.     <person role=\"student\">Wouterse</person>\n",
    "18.     <person role=\"student\">Zuijderduin</person>\n",
    "19. </Course>\n",
    "```"
   ]
  },
  {
   "cell_type": "markdown",
   "metadata": {},
   "source": [
    "#### Elements\n",
    "Line 1 to 19 all show examples of [XML elements](http://www.w3schools.com/xml/xml_elements.asp). Each XML element contains a **starting tag** (e.g. ```<person>```) an **end tag** (e.g. ```</person>```). An element can contain:\n",
    "* **text** *Van der Vliet* on line 2\n",
    "* **attributes**: *role* attribute in lines 2 to 18\n",
    "* **elements**: elements can contain other elements, e.g. *person* elements inside the *Course* element. The terminology to talk about this is as follows. In this example, we call `person` the `child` of `Course` and `Course` the `parent` of `person`."
   ]
  },
  {
   "cell_type": "markdown",
   "metadata": {},
   "source": [
    "#### Root element\n",
    "A special element is the **root** element. In our example, **Course** is our [root element](https://en.wikipedia.org/wiki/Root_element). The element starts at line 1 (```<Course>```) and ends at line 19 (```</Course>```). Notice the difference between the begin tag (no '/') and the end tag (with '/'). A root element is special in that it is the only element, which is the sole parent element to all the other elements. Usually, this element indicates the type of XML."
   ]
  },
  {
   "cell_type": "markdown",
   "metadata": {},
   "source": [
    "#### Attributes\n",
    "Elements can contain [attributes](http://www.w3schools.com/xml/xml_attributes.asp), which contain information about the element. In this case, this information is the role a person has in the course. All attributes are located in the start tag of an xml element."
   ]
  },
  {
   "cell_type": "markdown",
   "metadata": {},
   "source": [
    "#### Working with XML in Python\n",
    "Now that we know the basics of XML, we want to be able to access it in Python. In order to work with XML, we will use the [**lxml**](http://lxml.de/) library."
   ]
  },
  {
   "cell_type": "code",
   "execution_count": 2,
   "metadata": {
    "collapsed": true
   },
   "outputs": [],
   "source": [
    "from lxml import etree"
   ]
  },
  {
   "cell_type": "markdown",
   "metadata": {},
   "source": [
    "As a next step, we load our example as if we loaded if from an XML file on our computer.\n",
    "For now, you do not have to understand why we use *getroottree()* here. "
   ]
  },
  {
   "cell_type": "code",
   "execution_count": 9,
   "metadata": {
    "collapsed": false
   },
   "outputs": [],
   "source": [
    "tree = etree.XML('''<Course>\n",
    "<person role=\"coordinator\">Van der Vliet</person>\n",
    "<person role=\"instructor\">Van Miltenburg</person>\n",
    "<person role=\"instructor\">Van Son</person>\n",
    "<person role=\"instructor\">Marten Postma</person>\n",
    "<person role=\"student\">Baloche</person>\n",
    "<person role=\"student\">De Boer</person>\n",
    "<animal role=\"student\">Rubber duck</animal>\n",
    "<person role=\"student\">Van Doorn</person>\n",
    "<person role=\"student\">De Jager</person>\n",
    "<person role=\"student\">King</person>\n",
    "<person role=\"student\">Kingham</person>\n",
    "<person role=\"student\">Mózes</person>\n",
    "<person role=\"student\">Rübsaam</person>\n",
    "<person role=\"student\">Torsi</person>\n",
    "<person role=\"student\">Witteman</person>\n",
    "<person role=\"student\">Wouterse</person>\n",
    "<person role=\"student\">Zuijderduin</person>\n",
    "</Course>''').getroottree()"
   ]
  },
  {
   "cell_type": "markdown",
   "metadata": {},
   "source": [
    "#### Accessing root element\n",
    "In order to access the root element of an XML file, we can use the **getroot** method. Note that this does not show the XML element itself, but only a reference. In order to show the element itself, we can use the **etree.dump** method."
   ]
  },
  {
   "cell_type": "code",
   "execution_count": 8,
   "metadata": {
    "collapsed": false
   },
   "outputs": [
    {
     "name": "stdout",
     "output_type": "stream",
     "text": [
      "root <Element Course at 0x1047e3ac8>\n",
      "\n",
      "etree.dump example\n",
      "<Course>\n",
      "<person role=\"coordinator\">Van der Vliet</person>\n",
      "<person role=\"instructor\">Van Miltenburg</person>\n",
      "<person role=\"instructor\">Van Son</person>\n",
      "<person role=\"instructor\">Marten Postma</person>\n",
      "<person role=\"student\">Baloche</person>\n",
      "<person role=\"student\">De Boer</person>\n",
      "<animal role=\"student\">Rubber duck</animal>\n",
      "<person role=\"student\">Van Doorn</person>\n",
      "<person role=\"student\">De Jager</person>\n",
      "<person role=\"student\">King</person>\n",
      "<person role=\"student\">Kingham</person>\n",
      "<person role=\"student\">Mózes</person>\n",
      "<person role=\"student\">Rübsaam</person>\n",
      "<person role=\"student\">Torsi</person>\n",
      "<person role=\"student\">Witteman</person>\n",
      "<person role=\"student\">Wouterse</person>\n",
      "<person role=\"student\">Zuijderduin</person>\n",
      "</Course>\n"
     ]
    }
   ],
   "source": [
    "root = tree.getroot()\n",
    "print('root', root)\n",
    "print()\n",
    "print('etree.dump example')\n",
    "etree.dump(root)"
   ]
  },
  {
   "cell_type": "markdown",
   "metadata": {},
   "source": [
    "#### Accessing elements\n",
    "There are several ways of accessing XML elements. The **find** method returns the **first** matching child."
   ]
  },
  {
   "cell_type": "code",
   "execution_count": 10,
   "metadata": {
    "collapsed": false
   },
   "outputs": [
    {
     "name": "stdout",
     "output_type": "stream",
     "text": [
      "<person role=\"coordinator\">Van der Vliet</person>\n",
      "\n"
     ]
    }
   ],
   "source": [
    "first_person_el = root.find('person')\n",
    "etree.dump(first_person_el)"
   ]
  },
  {
   "cell_type": "markdown",
   "metadata": {},
   "source": [
    "In order to get a list of all person children, we can use the **findall** method.\n",
    "Notice that this does not return the **animal** since we are looking for **person** elements."
   ]
  },
  {
   "cell_type": "code",
   "execution_count": 11,
   "metadata": {
    "collapsed": false
   },
   "outputs": [
    {
     "data": {
      "text/plain": [
       "[<Element person at 0x1047f4d88>,\n",
       " <Element person at 0x1047f4f08>,\n",
       " <Element person at 0x104ca60c8>,\n",
       " <Element person at 0x104ca6048>,\n",
       " <Element person at 0x104ca6108>,\n",
       " <Element person at 0x104ca6148>,\n",
       " <Element person at 0x104ca6188>,\n",
       " <Element person at 0x104ca61c8>,\n",
       " <Element person at 0x104ca6208>,\n",
       " <Element person at 0x104ca6248>,\n",
       " <Element person at 0x104ca6288>,\n",
       " <Element person at 0x104ca62c8>,\n",
       " <Element person at 0x104ca6308>,\n",
       " <Element person at 0x104ca6348>,\n",
       " <Element person at 0x104ca6388>,\n",
       " <Element person at 0x104ca63c8>]"
      ]
     },
     "execution_count": 11,
     "metadata": {},
     "output_type": "execute_result"
    }
   ],
   "source": [
    "all_person_els = root.findall('person')\n",
    "all_person_els"
   ]
  },
  {
   "cell_type": "markdown",
   "metadata": {},
   "source": [
    "Sometimes, we simple want all the children, while ignoring the start tags. This can be achieved using the **getchildren** method. This will simply return all children.\n",
    "Now we do get the **animal** element again."
   ]
  },
  {
   "cell_type": "code",
   "execution_count": 12,
   "metadata": {
    "collapsed": false
   },
   "outputs": [
    {
     "data": {
      "text/plain": [
       "[<Element person at 0x1047f4d88>,\n",
       " <Element person at 0x1047f4f08>,\n",
       " <Element person at 0x104ca60c8>,\n",
       " <Element person at 0x104ca6048>,\n",
       " <Element person at 0x104ca6108>,\n",
       " <Element person at 0x104ca6148>,\n",
       " <Element animal at 0x1047f4e48>,\n",
       " <Element person at 0x104ca6188>,\n",
       " <Element person at 0x104ca61c8>,\n",
       " <Element person at 0x104ca6208>,\n",
       " <Element person at 0x104ca6248>,\n",
       " <Element person at 0x104ca6288>,\n",
       " <Element person at 0x104ca62c8>,\n",
       " <Element person at 0x104ca6308>,\n",
       " <Element person at 0x104ca6348>,\n",
       " <Element person at 0x104ca6388>,\n",
       " <Element person at 0x104ca63c8>]"
      ]
     },
     "execution_count": 12,
     "metadata": {},
     "output_type": "execute_result"
    }
   ],
   "source": [
    "all_child_els = root.getchildren()\n",
    "all_child_els"
   ]
  },
  {
   "cell_type": "markdown",
   "metadata": {},
   "source": [
    "#### Accessing element information\n",
    "We will now show how to access the attributes, text, and tag of an element."
   ]
  },
  {
   "cell_type": "markdown",
   "metadata": {},
   "source": [
    "The **get** method is used to access the attribute of an element.\n",
    "If an attribute does not exists, it will return None, hence no error."
   ]
  },
  {
   "cell_type": "code",
   "execution_count": 14,
   "metadata": {
    "collapsed": false
   },
   "outputs": [
    {
     "name": "stdout",
     "output_type": "stream",
     "text": [
      "role first person element: coordinator\n",
      "value if not found: None\n"
     ]
    }
   ],
   "source": [
    "first_person_el = root.find('person')\n",
    "role_first_person_el = first_person_el.get('role')\n",
    "attribute_not_found = first_person_el.get('blabla')\n",
    "print('role first person element:', role_first_person_el)\n",
    "print('value if not found:', attribute_not_found)"
   ]
  },
  {
   "cell_type": "markdown",
   "metadata": {},
   "source": [
    "The **text** of an element is found in the attribute **text**"
   ]
  },
  {
   "cell_type": "code",
   "execution_count": 15,
   "metadata": {
    "collapsed": false
   },
   "outputs": [
    {
     "name": "stdout",
     "output_type": "stream",
     "text": [
      "Van der Vliet\n"
     ]
    }
   ],
   "source": [
    "print(first_person_el.text)"
   ]
  },
  {
   "cell_type": "markdown",
   "metadata": {},
   "source": [
    "The **tag** of an element is found in the attribute **tag**"
   ]
  },
  {
   "cell_type": "code",
   "execution_count": 31,
   "metadata": {
    "collapsed": false
   },
   "outputs": [
    {
     "name": "stdout",
     "output_type": "stream",
     "text": [
      "person\n"
     ]
    }
   ],
   "source": [
    "print(first_person_el.tag)"
   ]
  },
  {
   "cell_type": "markdown",
   "metadata": {},
   "source": [
    "#### Creating your own XML elements \n",
    "We can also create our own XML elements by using the **etree.Element** method:"
   ]
  },
  {
   "cell_type": "code",
   "execution_count": 59,
   "metadata": {
    "collapsed": false
   },
   "outputs": [
    {
     "name": "stdout",
     "output_type": "stream",
     "text": [
      "<person role=\"student\">Lee</person>\n"
     ]
    }
   ],
   "source": [
    "tag = 'person' # what the start and end tag will be \n",
    "attributes = {'role': 'student'} # dictionary of attributes, can be more than one\n",
    "name_student = 'Lee' # the text of the elements\n",
    "\n",
    "new_person_element = etree.Element(tag, attrib=attributes)\n",
    "new_person_element.text = name_student\n",
    "\n",
    "etree.dump(new_person_element)"
   ]
  },
  {
   "cell_type": "markdown",
   "metadata": {},
   "source": [
    "We can also add children to an XML element using **append**"
   ]
  },
  {
   "cell_type": "code",
   "execution_count": 63,
   "metadata": {
    "collapsed": false
   },
   "outputs": [
    {
     "name": "stdout",
     "output_type": "stream",
     "text": [
      "\n",
      "our new pet element\n",
      "<pet role=\"joy\">Romeo</pet>\n",
      "\n",
      "person element with pet element as child\n",
      "<person role=\"student\">Lee<pet role=\"joy\">Romeo</pet><pet role=\"joy\">Romeo</pet><pet role=\"joy\">Romeo</pet></person>\n"
     ]
    }
   ],
   "source": [
    "tag = 'pet'\n",
    "attributes = {'role': 'joy'}\n",
    "name_pet = 'Romeo'\n",
    "\n",
    "new_pet_element = etree.Element(tag, attrib=attributes)\n",
    "new_pet_element.text = name_pet\n",
    "\n",
    "print()\n",
    "print('our new pet element')\n",
    "etree.dump(new_pet_element)\n",
    "\n",
    "# now we will make this element the child of the new_person_element elements\n",
    "new_person_element.append(new_pet_element)\n",
    "\n",
    "print()\n",
    "print('person element with pet element as child')\n",
    "etree.dump(new_person_element)"
   ]
  },
  {
   "cell_type": "code",
   "execution_count": 62,
   "metadata": {
    "collapsed": false
   },
   "outputs": [
    {
     "name": "stdout",
     "output_type": "stream",
     "text": [
      "<pet role=\"joy\">Romeo</pet>\n"
     ]
    }
   ],
   "source": [
    "pet_child = new_person_element.find('pet')\n",
    "etree.dump(pet_child)"
   ]
  },
  {
   "cell_type": "markdown",
   "metadata": {},
   "source": [
    "## Subtopic: Conversion example XML to CoNLL\n",
    "### Note: this example is somewhat advanced. Please read through it and try to understand it. It is not necessary that you fully understand every step.\n",
    "Last year, we organized the [CLIN26 shared task](\"http://wordpress.let.vupr.nl/clin26/shared-task/\") as part of \n",
    "[The 26th Meeting of Computational Linguistics in the Netherlands (CLIN26)](http://wordpress.let.vupr.nl/clin26/).\n",
    "Aside from organizing it, we also wanted to know how the Entity Linker inside the [NewsReader](\"http://www.newsreader-project.eu/\") Dutch NLP pipeline would perform on the shared task.\n",
    "\n",
    "In order to compete, the team needed to convert the [Entity Linking](https://en.wikipedia.org/wiki/Entity_linking) output from the pipeline into a format called ConLL (tsv). This is needed in order to evaluate the output."
   ]
  },
  {
   "cell_type": "markdown",
   "metadata": {
    "collapsed": true
   },
   "source": [
    "#### Example NAF output Entity Linking\n",
    "Please observe the following element. Try to understand which elements are children/parents of which elements.\n",
    "```xml\n",
    "<entity id=\"e4\" type=\"ORG\">\n",
    "    <references>\n",
    "        <span>\n",
    "            <!--General Motors-->\n",
    "            <target id=\"t_19\"/>\n",
    "            <target id=\"t_20\"/>\n",
    "        </span>\n",
    "    </references>\n",
    "    <externalReferences>\n",
    "        <externalRef confidence=\"1.0\" reference=\"http://nl.dbpedia.org/resource/General_Motors\" resource=\"spotlight_v1\"/>\n",
    "        <externalRef confidence=\"6.3984197E-25\" reference=\"http://nl.dbpedia.org/resource/General_Motors_Belgium\" resource=\"spotlight_v1\"/>\n",
    "    </externalReferences>\n",
    "</entity>\n",
    "```\n",
    "\n",
    "Above, you see part of an NAF XML file, which contains output from the Newsreader pipeline.\n",
    "* the **entity** element is the main element.\n",
    "* the **entity** element has two attributes:  **id** (entity identifier), and  **entity type**.\n",
    "* the first child of the **entity** element is the **references** element. This element provides us the information that the entity is **General Motors** and that the term *General* is the 19th term in the document and *Motors* the 20th.\n",
    "* the second child of the entity element is the *externalReferences* element. This shows the output from the system *spotlight_v1*, which tries to link the entity 'General Motors' to [Dbpedia](http://wiki.dbpedia.org/) (structured Wikipedia). The system has a confidence of 1.0 (the highest possible value) that the entity refers to http://nl.dbpedia.org/resource/General_Motors and a confidence of 6.3984197E-25 that it refers to http://nl.dbpedia.org/resource/General_Motors_Belgium.\n",
    "    \n",
    "In this example, we are interested in extracting the following information:\n",
    "\n",
    "| What        | Output | Where |\n",
    "|-------------|--------|-------|\n",
    "| entity type | `ORG`  | we want to know that **General Motors** is an organisation (ORG). The attribute **type** of the **entity** element provides us this information. |\n",
    "| DBpedia link with highest confidence | `http://nl.dbpedia.org/resource/General_Motors` | the value of the **reference** attribute with the highest **confidence** value from the **externalRef** elements. |\n",
    "| position    |        |  we want to know for each term (t_19 and t_20), which position they have in the entity. t_19 ('General') is the first term in the entity, and t_20 ('Motors') is the last term in the entity. | \n",
    "\n",
    "The output will look like this:\n",
    "\n",
    "| Term id | Entity Type | Entity Link | \n",
    "|---------|-------------|-----------------------------------------------|\n",
    "| 19      |  (ORG       | http://nl.dbpedia.org/resource/General_Motors |\n",
    "| 20      |  ORG)       | http://nl.dbpedia.org/resource/General_Motors |\n",
    "\n",
    "* **(ORG**: the opening bracket means that **General** is the first token in the entity.\n",
    "* **ORG)**: the closing bracket means that **Motors** is the last token in the entity."
   ]
  },
  {
   "cell_type": "markdown",
   "metadata": {},
   "source": [
    "In order to created the wanted output, we will first load the XML element:"
   ]
  },
  {
   "cell_type": "code",
   "execution_count": 17,
   "metadata": {
    "collapsed": true
   },
   "outputs": [],
   "source": [
    "from lxml import etree"
   ]
  },
  {
   "cell_type": "code",
   "execution_count": 19,
   "metadata": {
    "collapsed": false
   },
   "outputs": [
    {
     "name": "stdout",
     "output_type": "stream",
     "text": [
      "<Element entity at 0x104ca6948>\n"
     ]
    }
   ],
   "source": [
    "#load the element as XML element.\n",
    "entity = '''\n",
    "<entity id=\"e4\" type=\"ORG\">\n",
    "      <references>\n",
    "        <span>\n",
    "          <!--General Motors-->\n",
    "          <target id=\"t_19\"/>\n",
    "          <target id=\"t_20\"/>\n",
    "        </span>\n",
    "      </references>\n",
    "      <externalReferences>\n",
    "        <externalRef confidence=\"1.0\" reference=\"http://nl.dbpedia.org/resource/General_Motors\" reftype=\"nl\" resource=\"spotlight_v1\"/>\n",
    "        <externalRef confidence=\"6.3984197E-25\" reference=\"http://nl.dbpedia.org/resource/General_Motors_Belgium\" reftype=\"nl\" resource=\"spotlight_v1\"/>\n",
    "      </externalReferences>\n",
    "</entity>'''\n",
    "\n",
    "entity_el = etree.XML(entity)\n",
    "print(entity_el)"
   ]
  },
  {
   "cell_type": "markdown",
   "metadata": {},
   "source": [
    "We write a function to obtain the entity type:"
   ]
  },
  {
   "cell_type": "code",
   "execution_count": 21,
   "metadata": {
    "collapsed": false
   },
   "outputs": [
    {
     "name": "stdout",
     "output_type": "stream",
     "text": [
      "ORG\n"
     ]
    }
   ],
   "source": [
    "def type_of_entity(entity_el):\n",
    "    '''\n",
    "    given an entity element, returns the entity type\n",
    "    (access the value of the attribute 'type')\n",
    "    If the value is an empty string, or the attribute does not exist, returns '_'\n",
    "    '''\n",
    "    entity_type = entity_el.get('type')\n",
    "    if entity_type is None:\n",
    "        entity_type = '_'\n",
    "    \n",
    "    return entity_type\n",
    "\n",
    "entity_type = type_of_entity(entity_el)\n",
    "print(entity_type)"
   ]
  },
  {
   "cell_type": "markdown",
   "metadata": {},
   "source": [
    "We write a function to get the dbpedia link with the highest confidence"
   ]
  },
  {
   "cell_type": "code",
   "execution_count": 22,
   "metadata": {
    "collapsed": false
   },
   "outputs": [
    {
     "name": "stdout",
     "output_type": "stream",
     "text": [
      "http://nl.dbpedia.org/resource/General_Motors\n"
     ]
    }
   ],
   "source": [
    "def dbpedia_link_with_highest_confidence(entity_el):\n",
    "    '''\n",
    "    returns the DBpedia link with the highest confidence. \n",
    "    returns '_' if there are no dbpedia links\n",
    "    in the externalReferences element.\n",
    "    \n",
    "    create a list of tuples with dbpedia links with their corresponding confidences\n",
    "    [(1.0,'http://nl.dbpedia.org/resource/General_Motors'),\n",
    "     (6.3984197e-25,'http://nl.dbpedia.org/resource/General_Motors_Belgium')] \n",
    "    '''\n",
    "    entities = []\n",
    "    \n",
    "    ext_refs_el = entity_el.find('externalReferences')\n",
    "    for ext_ref_el in ext_refs_el.findall('externalRef'):\n",
    "        confidence = ext_ref_el.get('confidence')\n",
    "        float_confidence = float(confidence)\n",
    "        reference = ext_ref_el.get('reference')\n",
    "        entities.append((float_confidence, reference))\n",
    "        \n",
    "    if entities:\n",
    "        highest_link = max(entities)[1]\n",
    "    else:\n",
    "        highest_link = '_'\n",
    "    \n",
    "    return highest_link\n",
    "    \n",
    "highest_link = dbpedia_link_with_highest_confidence(entity_el)\n",
    "print(highest_link)"
   ]
  },
  {
   "cell_type": "markdown",
   "metadata": {},
   "source": [
    "We write a function to get the entity type with the correct opening and/or closing brackets."
   ]
  },
  {
   "cell_type": "code",
   "execution_count": 24,
   "metadata": {
    "collapsed": false
   },
   "outputs": [
    {
     "name": "stdout",
     "output_type": "stream",
     "text": [
      "{'t_20': 'ORG)', 't_19': '(ORG'}\n"
     ]
    }
   ],
   "source": [
    "def get_entity_types_with_position(entity_el, entity_type):\n",
    "    '''\n",
    "    given an entity element element,\n",
    "    this function loops over the 'span/target' elements\n",
    "    and returns a dictionary mapping term_id -> entity type with\n",
    "    brackets indicating the position of the term in the entity.\n",
    "        \n",
    "    output can look like:\n",
    "    { 't_19': '(ORG' , 't_20': 'ORG)'}\n",
    "    \n",
    "    '''\n",
    "    entity_types = {}\n",
    "    \n",
    "    #find all 'span/target elements' elements and determine the number of children\n",
    "    target_els = entity_el.findall('references/span/target')\n",
    "    len_target_els = len(target_els)\n",
    "    \n",
    "    #if there is only one element, the position is 'start_and_end'\n",
    "    if len_target_els == 1:\n",
    "        target_el = target_els[0]\n",
    "        t_id = target_el.get('id')\n",
    "        entity_with_position = '(%s)' % entity_type\n",
    "        entity_types[t_id] = entity_with_position\n",
    "    \n",
    "    # if there are 0 children or two or more children, \n",
    "    # loop over the target elements.\n",
    "    else:\n",
    "        for counter, target_el in enumerate(target_els,1):\n",
    "            t_id = target_el.get('id')\n",
    "            \n",
    "            if counter == 1:\n",
    "                entity_with_position = '(%s' % entity_type\n",
    "            elif counter == len_target_els:\n",
    "                entity_with_position = '%s)' % entity_type\n",
    "            else:\n",
    "                entity_with_position = entity_type\n",
    "            \n",
    "            entity_types[t_id] = entity_with_position\n",
    "            \n",
    "    return entity_types\n",
    "\n",
    "entity_types_in_conll = get_entity_types_with_position(entity_el, entity_type)\n",
    "print(entity_types_in_conll)"
   ]
  },
  {
   "cell_type": "markdown",
   "metadata": {},
   "source": [
    "Finally, we can combine all the functions to get our output"
   ]
  },
  {
   "cell_type": "code",
   "execution_count": 25,
   "metadata": {
    "collapsed": false
   },
   "outputs": [
    {
     "name": "stdout",
     "output_type": "stream",
     "text": [
      "t_20 ORG) http://nl.dbpedia.org/resource/General_Motors\n",
      "t_19 (ORG http://nl.dbpedia.org/resource/General_Motors\n"
     ]
    }
   ],
   "source": [
    "# extract entity type and dbpedia link with highest confidence\n",
    "entity_type = type_of_entity(entity_el)\n",
    "dbpedia_link = dbpedia_link_with_highest_confidence(entity_el)\n",
    "    \n",
    "entity_types_with_position = get_entity_types_with_position(entity_el, entity_type)\n",
    "\n",
    "for t_id, entity_type_conll in entity_types_with_position.items():\n",
    "    print(t_id, entity_type_conll, dbpedia_link)"
   ]
  },
  {
   "cell_type": "markdown",
   "metadata": {},
   "source": [
    "## Subtopic: Xpath\n",
    "Is what I have just shown the nicest way to work with XML? Probably not.\n",
    "In this subtopic, I'll show some examples that make it easier to work with XML. The query language [XPath](https://nl.wikipedia.org/wiki/XPath) is a big part of this."
   ]
  },
  {
   "cell_type": "markdown",
   "metadata": {},
   "source": [
    "### Search in deeper levels"
   ]
  },
  {
   "cell_type": "markdown",
   "metadata": {},
   "source": [
    "#### BEFORE"
   ]
  },
  {
   "cell_type": "code",
   "execution_count": 26,
   "metadata": {
    "collapsed": false
   },
   "outputs": [
    {
     "name": "stdout",
     "output_type": "stream",
     "text": [
      "<Element externalRef at 0x104cb0188>\n",
      "<Element externalRef at 0x104cb0148>\n"
     ]
    }
   ],
   "source": [
    "ext_refs_el = entity_el.find('externalReferences')\n",
    "if ext_refs_el is not None:\n",
    "    for ext_ref_el in ext_refs_el.findall('externalRef'):\n",
    "        print(ext_ref_el)"
   ]
  },
  {
   "cell_type": "markdown",
   "metadata": {},
   "source": [
    "#### AFTER"
   ]
  },
  {
   "cell_type": "markdown",
   "metadata": {},
   "source": [
    "Select all externalRef elements that are children of externalReferences"
   ]
  },
  {
   "cell_type": "code",
   "execution_count": 27,
   "metadata": {
    "collapsed": false
   },
   "outputs": [
    {
     "name": "stdout",
     "output_type": "stream",
     "text": [
      "<Element externalRef at 0x104cb0a08>\n",
      "<Element externalRef at 0x104cb0148>\n"
     ]
    }
   ],
   "source": [
    "for ext_ref_el in entity_el.xpath('externalReferences/externalRef'):\n",
    "    print(ext_ref_el)"
   ]
  },
  {
   "cell_type": "markdown",
   "metadata": {},
   "source": [
    "You can even also use '//' which selects nodes in the document from the current node that match the selection no matter where they are."
   ]
  },
  {
   "cell_type": "code",
   "execution_count": 28,
   "metadata": {
    "collapsed": false
   },
   "outputs": [
    {
     "name": "stdout",
     "output_type": "stream",
     "text": [
      "<Element externalRef at 0x104cc7988>\n",
      "<Element externalRef at 0x104cb0148>\n"
     ]
    }
   ],
   "source": [
    "for ext_ref_el in entity_el.xpath('//externalRef'):\n",
    "    print(ext_ref_el)"
   ]
  },
  {
   "cell_type": "markdown",
   "metadata": {
    "collapsed": true
   },
   "source": [
    "### Search on attribute values\n",
    "Let's say we only want the output from the **spotlight_v1** system."
   ]
  },
  {
   "cell_type": "markdown",
   "metadata": {},
   "source": [
    "#### BEFORE"
   ]
  },
  {
   "cell_type": "code",
   "execution_count": 29,
   "metadata": {
    "collapsed": false
   },
   "outputs": [
    {
     "name": "stdout",
     "output_type": "stream",
     "text": [
      "<externalRef confidence=\"1.0\" reference=\"http://nl.dbpedia.org/resource/General_Motors\" reftype=\"nl\" resource=\"spotlight_v1\"/>\n",
      "        \n",
      "<externalRef confidence=\"6.3984197E-25\" reference=\"http://nl.dbpedia.org/resource/General_Motors_Belgium\" reftype=\"nl\" resource=\"spotlight_v1\"/>\n",
      "      \n"
     ]
    }
   ],
   "source": [
    "ext_refs_el = entity_el.find('externalReferences')\n",
    "if ext_refs_el is not None:\n",
    "    for ext_ref_el in ext_refs_el.findall('externalRef'):\n",
    "        system = ext_ref_el.get('resource')\n",
    "        if system == 'spotlight_v1':\n",
    "            etree.dump(ext_ref_el)"
   ]
  },
  {
   "cell_type": "markdown",
   "metadata": {},
   "source": [
    "#### AFTER"
   ]
  },
  {
   "cell_type": "code",
   "execution_count": 30,
   "metadata": {
    "collapsed": false
   },
   "outputs": [
    {
     "name": "stdout",
     "output_type": "stream",
     "text": [
      "<externalRef confidence=\"1.0\" reference=\"http://nl.dbpedia.org/resource/General_Motors\" reftype=\"nl\" resource=\"spotlight_v1\"/>\n",
      "        \n",
      "<externalRef confidence=\"6.3984197E-25\" reference=\"http://nl.dbpedia.org/resource/General_Motors_Belgium\" reftype=\"nl\" resource=\"spotlight_v1\"/>\n",
      "      \n"
     ]
    }
   ],
   "source": [
    "xpath_query = 'externalReferences/externalRef[@resource=\"spotlight_v1\"]'\n",
    "for ext_ref_el in entity_el.xpath(xpath_query):\n",
    "    etree.dump(ext_ref_el)"
   ]
  },
  {
   "cell_type": "markdown",
   "metadata": {},
   "source": [
    "Is this everything? No, XPath can do so much more. Please take a look at [tutorial](http://www.w3schools.com/xml/xpath_syntax.asp) to learn more."
   ]
  }
 ],
 "metadata": {
  "anaconda-cloud": {},
  "kernelspec": {
   "display_name": "Python [conda root]",
   "language": "python",
   "name": "conda-root-py"
  },
  "language_info": {
   "codemirror_mode": {
    "name": "ipython",
    "version": 3
   },
   "file_extension": ".py",
   "mimetype": "text/x-python",
   "name": "python",
   "nbconvert_exporter": "python",
   "pygments_lexer": "ipython3",
   "version": "3.5.2"
  }
 },
 "nbformat": 4,
 "nbformat_minor": 1
}
