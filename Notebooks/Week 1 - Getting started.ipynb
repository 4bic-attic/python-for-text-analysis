{
 "cells": [
  {
   "cell_type": "markdown",
   "metadata": {
    "slideshow": {
     "slide_type": "slide"
    }
   },
   "source": [
    "# Python for text analysis: week 1\n",
    "\n",
    "Welcome to the course! You are now in the Jupyter Notebook environment, running the notebook for week 1.\n",
    "Notebooks are pretty straightforward. Some tips:\n",
    "\n",
    "* Cells in a notebook contain code or text. If you run a cell, it will either run the code or render the text.\n",
    "* There are four ways to run a cell:\n",
    "    1. Click the 'play' button next to the 'stop' and 'refresh' button in the toolbar.\n",
    "    2. Alt + Enter runs the current cell and creates a new cell.\n",
    "    3. Ctrl + Enter runs the current cell without creating a new cell.\n",
    "    4. Use the menu and select Cell/Run all.\n",
    "* The instructions are written in Markdown. [Here](https://github.com/adam-p/markdown-here/wiki/Markdown-Cheatsheet) is a nice Markdown cheatsheet if you want to write some more.\n",
    "* Explore the menus for more options! You can even create a presentation using Notebooks.\n",
    "\n",
    "Hint when you're writing Python code: press Tab to auto-complete your variable names!"
   ]
  },
  {
   "cell_type": "markdown",
   "metadata": {
    "collapsed": true,
    "slideshow": {
     "slide_type": "slide"
    }
   },
   "source": [
    "## Getting started\n",
    "\n",
    "This notebook provides you with an overview of the basics of Python. You don't need to remember everything, we just want to give you a sense of what's available in the language. Also recall the 15 minute rule: if you're stuck for longer than 15 minutes, contact us and we'll help you. (In class, of course, you can ask us immediately.)\n",
    "\n",
    "Let's first start with something really simple. Every programming language is traditionally introduced with a \"Hello world\" example. Please run the following cell."
   ]
  },
  {
   "cell_type": "code",
   "execution_count": null,
   "metadata": {
    "collapsed": false
   },
   "outputs": [],
   "source": [
    "print(\"Hello, world!\")"
   ]
  },
  {
   "cell_type": "markdown",
   "metadata": {},
   "source": [
    "What happened here? Well, Python has a large set of built-in functions, and `print()` is one of them. When you use this function, `print()` outputs its *argument* to the screen. 'Argument' is a fancy word for \"object you put in a function\". In this case, the argument is the string \"Hello, world!\". And 'string' just means \"a sequence of characters\".\n",
    "\n",
    "Instead of providing the string directly as an argument to the print function, we can also create a variable that refers to the string value \"Hello, world!\". When you pass this variable to the print function, you get the same result as before:"
   ]
  },
  {
   "cell_type": "code",
   "execution_count": null,
   "metadata": {
    "collapsed": true
   },
   "outputs": [],
   "source": [
    "text = \"Hello, world!\"\n",
    "print(text)"
   ]
  },
  {
   "cell_type": "markdown",
   "metadata": {},
   "source": [
    "Note that the variable name `text` is not part of Python. You could use any name you like, and the example would still work. Even if you change the name `text` to something silly like `pikachu` or `sniffles`. But it's standard practice to use clear variable names, so that your scripts will remain understandable (especially when they grow larger).\n",
    "\n",
    "Since it's kind of boring to always use the same string, we'll make use of another built-in function: `input()`. This takes user input and returns it as a string. Try it below:"
   ]
  },
  {
   "cell_type": "code",
   "execution_count": null,
   "metadata": {
    "collapsed": true,
    "nbpresent": {
     "id": "a984930a-be23-4ea2-a87d-73dfdf9e17ca"
    }
   },
   "outputs": [],
   "source": [
    "text = input('Please enter some text.') # If this doesn't work, you may have Python 2 installed.\n",
    "print(text)                             # Please install Python 3, or you'll be unable to use these notebooks."
   ]
  },
  {
   "cell_type": "markdown",
   "metadata": {},
   "source": [
    "Until we learn how to use functions and files, we will use the following setup to explore python:\n",
    "\n",
    "1. We assign some input value to a variable,\n",
    "2. do something with that value,\n",
    "3. and print the result."
   ]
  },
  {
   "cell_type": "markdown",
   "metadata": {},
   "source": [
    "## Objects\n",
    "\n",
    "Python is an object-oriented programming language. This means that it treats every piece of data like some kind of object that can be manipulated and passed around. Python has the following basic *types* of objects:\n",
    "\n",
    "* **String**: for representing text.\n",
    "* **Integer**: for representing whole numbers.\n",
    "* **Float**: for representing numbers with decimals.\n",
    "* **Tuple**: for representing immutable combinations of values.\n",
    "* **List**: for representing ordered sequences of objects.\n",
    "* **Set**: for representing unordered sets of objects.\n",
    "* **Dictionary**: to represent mappings between objects.\n",
    "* ..and **functions**: to manipulate objects, or to produce new objects given some input.\n",
    "\n",
    "You can also read about the types in Python in the documentation [here](https://docs.python.org/3/library/stdtypes.html). Basically, what you need to know now is that each type has particular *affordances*, or associated things that you can do with them. When something is of a numeric type (integer, float), the Python interpreter knows that you can perform mathematical operations with that object. You cannot use those operations with strings, because it doesn't make sense to take the square root of the string \"Hello, world!\".\n",
    "\n",
    "It's the same with vehicles and food in real life. Anything that is of the type *vehicle* can be used to get around and possibly transport goods. But you cannot eat a vehicle. Anything that is of the type *food* is edible, but it's pretty difficult to use food for transportation. (Try biking home on a carrot.)\n",
    "\n",
    "Here's an example of each type:"
   ]
  },
  {
   "cell_type": "code",
   "execution_count": null,
   "metadata": {
    "collapsed": true
   },
   "outputs": [],
   "source": [
    "test_string  = 'test'\n",
    "a_number     = 4\n",
    "other_number = 3.14\n",
    "pair         = (2,5)\n",
    "some_list    = [1,2,3,1,2,3,'a','b','c']\n",
    "a_set        = {1,2,3,4,'apple'}\n",
    "a_dict       = {'milk':2, 'cheese':1, 'pickles':45}\n",
    "print_function = print"
   ]
  },
  {
   "cell_type": "markdown",
   "metadata": {},
   "source": [
    "We can use the `type` function to check object types. Let's use it for a selection of our newly defined objects:"
   ]
  },
  {
   "cell_type": "code",
   "execution_count": null,
   "metadata": {
    "collapsed": true
   },
   "outputs": [],
   "source": [
    "type(print_function)"
   ]
  },
  {
   "cell_type": "code",
   "execution_count": null,
   "metadata": {
    "collapsed": true
   },
   "outputs": [],
   "source": [
    "type(other_number)"
   ]
  },
  {
   "cell_type": "code",
   "execution_count": null,
   "metadata": {
    "collapsed": true
   },
   "outputs": [],
   "source": [
    "type(test_string)"
   ]
  },
  {
   "cell_type": "markdown",
   "metadata": {},
   "source": [
    "### Strings\n",
    "\n",
    "We'll now take a look at the different object types in Python, one by one, starting with strings. Let's define a few of them:"
   ]
  },
  {
   "cell_type": "code",
   "execution_count": null,
   "metadata": {
    "collapsed": true
   },
   "outputs": [],
   "source": [
    "# Here are some strings:\n",
    "string_1 = 'Hello, world!'\n",
    "string_2 = 'I ❤️ cheese'      # If you are using Python 2, your computer will not like this.\n",
    "string_3 = '1,2,3,4,5,6,7,8,9'\n",
    "# Strings that span multiple lines must start and finish with three single or double quotes.\n",
    "string_4 = \"\"\"This string covers\n",
    "multiple lines!\"\"\"\n",
    "# You can also use double quotes:\n",
    "string_5 = \"This one\\n does too!\""
   ]
  },
  {
   "cell_type": "markdown",
   "metadata": {},
   "source": [
    "Strings can contain any character you can think of, including emoji! The cell above also shows different ways to enter a string in Python: using single/double quotes, or three single/double quotes. In addition, the 5th string also shows a hidden character. Here is what that line looks like when you print it:"
   ]
  },
  {
   "cell_type": "code",
   "execution_count": null,
   "metadata": {
    "collapsed": true
   },
   "outputs": [],
   "source": [
    "print(string_5)"
   ]
  },
  {
   "cell_type": "markdown",
   "metadata": {},
   "source": [
    "`\\n` stands for 'new line', and produces a line break. Another common hidden character is `\\t`, which produces a tab."
   ]
  },
  {
   "cell_type": "code",
   "execution_count": null,
   "metadata": {
    "collapsed": true
   },
   "outputs": [],
   "source": []
  },
  {
   "cell_type": "markdown",
   "metadata": {},
   "source": [
    "Let's explore some properties of strings.\n",
    "\n",
    "\n",
    "**Strings are sequences of characters**\n",
    "\n",
    "Python provides very useful functions to work with sequences. Since strings are represented as sequences of characters, these functions work for strings as well. Important for now are:\n",
    "\n",
    "* Length\n",
    "* Containment\n",
    "* Indexing\n",
    "* Looping\n",
    "\n",
    "**Length**: Python has a built-in function called `len()` that lets you compute the length of a sequence. It works like this:"
   ]
  },
  {
   "cell_type": "code",
   "execution_count": null,
   "metadata": {
    "collapsed": false
   },
   "outputs": [],
   "source": [
    "number_of_characters = len(string_1)\n",
    "print(number_of_characters) # Note that spaces count as characters too!"
   ]
  },
  {
   "cell_type": "markdown",
   "metadata": {},
   "source": [
    "What happened above is that the `len`-function was called with `string_1` as its argument. The Python interpreter then counted all characters in `string_1` and *returned* the result. (Programmers say 'return' to mean the function produces some kind of result.) This result (the number of characters) got assigned to the variable `number_of_characters`, which gets printed by `print` (a function that doesn't return anything, but rather *displays* its argument on the screen)."
   ]
  },
  {
   "cell_type": "markdown",
   "metadata": {},
   "source": [
    "**Containment**: The Python keyword `in` allows you to check whether a string contains a particular substring. It returns `True` if the string contains the relevant substring, and `False` if it doesn't. These two values (`True` and `False`) are called *boolean values*, or *booleans* for short. We'll talk about them in more detail later. Here are some examples to try:"
   ]
  },
  {
   "cell_type": "code",
   "execution_count": null,
   "metadata": {
    "collapsed": true
   },
   "outputs": [],
   "source": [
    "\"fun\" in \"function\""
   ]
  },
  {
   "cell_type": "code",
   "execution_count": null,
   "metadata": {
    "collapsed": true
   },
   "outputs": [],
   "source": [
    "\"I\" in \"Team\""
   ]
  },
  {
   "cell_type": "code",
   "execution_count": null,
   "metadata": {
    "collapsed": true
   },
   "outputs": [],
   "source": [
    "\"App\" in \"apple\" # Capitals are not the same as lowercase characters!"
   ]
  },
  {
   "cell_type": "markdown",
   "metadata": {},
   "source": [
    "**Indexing**: Python provides access to the characters in each string through indexing. The table below shows all indexes for the string \"Sandwiches are yummy\". \n",
    "\n",
    "| Positive index | 0 | 1 | 2 | 3 | 4 | 5 | 6 | 7 | 8 | 9 | 10 | 11 | 12 | 13 | 14 | 15 | 16 | 17 | 18 | 19 |\n",
    "|----------------|---|---|---|---|---|---|---|---|---|---|----|----|----|----|----|----|----|----|----|----|\n",
    "| Characters     | S | a | n | d | w | i | c | h | e | s |    | a  |  r | e  |    |  y |  u |  m |  m |  y |\n",
    "| Negative index |-20|-19|-18|-17|-16|-15|-14|-13|-12|-11|-10|-9|-8|-7|-6|-5|-4|-3|-2|-1|\n",
    "\n",
    "You can access the letters of string using the following notation:\n",
    "\n",
    "```python\n",
    "my_string = \"Sandwiches are yummy\"\n",
    "print(my_string[1])   # This will print 'a'.\n",
    "print(my_string[1:4]) # This will print 'and'\n",
    "print(my_string[1:4:1]) # This will also print 'and', but is more explicit about what's happening.\n",
    "print(my_string[-1]) # This will print 'y'\n",
    "```\n",
    "\n",
    "So how does this notation work?\n",
    "\n",
    "```python\n",
    "my_string[i] # Get the character at index i.\n",
    "my_string[start:end] # Get the substring starting at 'start' and ending *before* 'end'.\n",
    "my_string[start:end:stepsize] # Get all characters starting from 'start', ending before 'end', \n",
    "                              # with a specific step size.\n",
    "```\n",
    "\n",
    "You can also leave parts out:\n",
    "\n",
    "```python\n",
    "my_string[:i] # Get the substring starting at index 0 and ending just before i.\n",
    "my_string[i:] # Get the substring starting at i and running all the way to the end.\n",
    "my_string[::i] # Get a string going from start to end with step size i.\n",
    "```\n",
    "\n",
    "You can also have negative step size. `my_string[::-1]` is the idiomatic way to reverse a string.\n",
    "\n",
    "Let's have a small test. Do you know what the following statements will print?"
   ]
  },
  {
   "cell_type": "code",
   "execution_count": null,
   "metadata": {
    "collapsed": false
   },
   "outputs": [],
   "source": [
    "my_string = \"Sandwiches are yummy\"\n",
    "print(my_string[0])"
   ]
  },
  {
   "cell_type": "code",
   "execution_count": null,
   "metadata": {
    "collapsed": false
   },
   "outputs": [],
   "source": [
    "print(my_string[11:14])"
   ]
  },
  {
   "cell_type": "code",
   "execution_count": null,
   "metadata": {
    "collapsed": false
   },
   "outputs": [],
   "source": [
    "print(my_string[15:])"
   ]
  },
  {
   "cell_type": "code",
   "execution_count": null,
   "metadata": {
    "collapsed": false
   },
   "outputs": [],
   "source": [
    "print(my_string[:9])"
   ]
  },
  {
   "cell_type": "code",
   "execution_count": null,
   "metadata": {
    "collapsed": false,
    "scrolled": true
   },
   "outputs": [],
   "source": [
    "print('cow'[::2])"
   ]
  },
  {
   "cell_type": "markdown",
   "metadata": {},
   "source": [
    "**Looping**: we'll cover this in much more detail later on, but all sequences are *iterable*, which means you can loop over them. In other words, you can do something like this:"
   ]
  },
  {
   "cell_type": "code",
   "execution_count": null,
   "metadata": {
    "collapsed": true
   },
   "outputs": [],
   "source": [
    "for char in \"word\": # For every character in the string \"word\"..\n",
    "    print(char)     # Print that character."
   ]
  },
  {
   "cell_type": "markdown",
   "metadata": {},
   "source": [
    "That is: \n",
    "\n",
    "1. Take all the elements (in this case: characters) in the sequence, \n",
    "2. assign them one-by-one to a variable (in this case: `char`, but you can use any name), \n",
    "3. do something with that variable (in this case: print it), \n",
    "4. move to the next element and go to (2.) until there are no more elements left.\n",
    "\n",
    "and there are some other things you can do, like:"
   ]
  },
  {
   "cell_type": "code",
   "execution_count": null,
   "metadata": {
    "collapsed": true
   },
   "outputs": [],
   "source": [
    "for char in reversed(\"word\"): # For every character in the string \"word\" (but then reversed)..\n",
    "    print(char)               # Print that character."
   ]
  },
  {
   "cell_type": "code",
   "execution_count": null,
   "metadata": {
    "collapsed": true
   },
   "outputs": [],
   "source": [
    "for char in sorted(\"word\"): # For every character in the string \"word\" (but then sorted)..\n",
    "    print(char)             # Print that character."
   ]
  },
  {
   "cell_type": "markdown",
   "metadata": {
    "collapsed": true
   },
   "source": [
    "**Strings have useful methods**\n",
    "\n",
    "A method is a function that is associated with an object. For example, the string-method `lower()` turns a string into all lowercase characters, and `upper()` makes strings uppercase. You can call this method using the dot-notation:"
   ]
  },
  {
   "cell_type": "code",
   "execution_count": null,
   "metadata": {
    "collapsed": false
   },
   "outputs": [],
   "source": [
    "print(string_1)         # The original string.\n",
    "print(string_1.lower()) # Lowercased.\n",
    "print(string_1.upper()) # Uppercased."
   ]
  },
  {
   "cell_type": "markdown",
   "metadata": {},
   "source": [
    "So how do you find out what kind of methods an object has? There are two options:\n",
    "\n",
    "1. Read the documentation. See [here](https://docs.python.org/3.5/library/stdtypes.html#string-methods) for the string methods.\n",
    "2. Use the `dir()`-function, which returns a list of method names (as well as attributes of the object). If you want to know what a specific method does, use the `help()`-function.\n",
    "\n",
    "Run the code below to see what the output of `dir()` looks like. \n",
    "\n",
    "The method names that start and end with double underscores ('dunder methods') are Python-internal. They are what makes general methods like `len` work (`len` internally calls the `string.__len__()` function), and cause Python to know what to do when you, for example, use a for-loop with a string.\n",
    "\n",
    "The other method names indicate common and useful methods. "
   ]
  },
  {
   "cell_type": "code",
   "execution_count": null,
   "metadata": {
    "collapsed": false
   },
   "outputs": [],
   "source": [
    "# Run this cell to see all methods for string_1\n",
    "dir(string_1)"
   ]
  },
  {
   "cell_type": "markdown",
   "metadata": {},
   "source": [
    "If you'd like to know what one of these methods does, you can just use `help` (or look it up online):"
   ]
  },
  {
   "cell_type": "code",
   "execution_count": null,
   "metadata": {
    "collapsed": false
   },
   "outputs": [],
   "source": [
    "help(string_1.upper)"
   ]
  },
  {
   "cell_type": "code",
   "execution_count": null,
   "metadata": {
    "collapsed": false
   },
   "outputs": [],
   "source": [
    "help(string_1.split)"
   ]
  },
  {
   "cell_type": "markdown",
   "metadata": {},
   "source": [
    "It's important to note that methods only *return* the result. They do not change the string itself."
   ]
  },
  {
   "cell_type": "code",
   "execution_count": null,
   "metadata": {
    "collapsed": false
   },
   "outputs": [],
   "source": [
    "x = 'test'    # Defining x.\n",
    "y = x.upper() # Using x.upper(), calling the result y.\n",
    "print(y)      # Print y.\n",
    "print(x)      # Print x. It is unchanged."
   ]
  },
  {
   "cell_type": "markdown",
   "metadata": {
    "collapsed": true
   },
   "source": [
    "### Overview of useful methods\n",
    "\n",
    "Here's an overview of the methods that I frequently use. Others may also be useful, but I use them less often.\n",
    "If you encounter a new problem that involves strings, always check the string methods before trying to implement something yourself!\n",
    "This will save you time, and your code will be clearer and more idiomatic (=easier for everyone to read, including Future You).\n",
    "\n",
    "**Transforming a string**\n",
    "\n",
    "| Command | What does the command do? | What is it useful for? |\n",
    "|---------|---------------------------|------------------------|\n",
    "| casefold | Lowercase a string and try to normalize special characters, e.g. 'Gruße' => 'grusse' | Preprocessing/normalizing text, reducing the vocabulary size. |\n",
    "| join | Join elements of an iterable together with a string. | Formatting data, joining tokenized text. |\n",
    "| lower | Make a string lowercase. | Preprocessing/normalizing text. |\n",
    "| replace | Replaces specific substrings in a string with a replacement substring. | General purpose. |\n",
    "| split | Splits a string at every instance of another string (e.g. at every comma). | General purpose. |\n",
    "| splitlines | Splits a text into a list of lines. | Useful data preprocessing. |\n",
    "| strip | Removes trailing whitespace, or specific trailing characters from a string. | Useful data preprocessing. |\n",
    "\n",
    "Others in this category: `expandtabs, format, format_map, ljust, lstrip, partition, rjust, rpartition, rsplit, rstrip, swapcase, title, upper, zfill`.\n",
    "\n",
    "Special case: maketrans & translate, because they form a pair. The former creates a translation table, the latter uses the translation table to modify a string. Let's look at two examples. You don't need to remember these, but they are here for future reference. (Removing punctuation can be a useful preprocessing step for your data. This is the fastest way to do it.)"
   ]
  },
  {
   "cell_type": "code",
   "execution_count": null,
   "metadata": {
    "collapsed": false
   },
   "outputs": [],
   "source": [
    "# The simple case: replacing characters.\n",
    "\n",
    "# First make a translation table. 'a' will be mapped to 'n' and 'b' will be mapped to 'o'\n",
    "table = str.maketrans('ab','no')\n",
    "# Translate the string, using the table.\n",
    "result = 'abba'.translate(table)\n",
    "# Print the result: noon.\n",
    "print(result)"
   ]
  },
  {
   "cell_type": "code",
   "execution_count": null,
   "metadata": {
    "collapsed": false
   },
   "outputs": [],
   "source": [
    "# The more complex case: removing punctuation.\n",
    "\n",
    "# Define punctuation to remove.\n",
    "punctuation_to_remove = '.,!'\n",
    "\n",
    "# Make a translation table. \n",
    "# 1. No characters are transformed, as is indicated by the two empty strings.\n",
    "# 2. The optional third argument indicates which characters should be removed.\n",
    "table = str.maketrans(\"\", \"\", punctuation_to_remove)\n",
    "\n",
    "# We will remove punctuation from this text.\n",
    "with_punctuation = \"Hello, I am a hamster! I like to sleep during the day.\"\n",
    "\n",
    "# Translate.\n",
    "result = with_punctuation.translate(table)\n",
    "\n",
    "print(result)"
   ]
  },
  {
   "cell_type": "markdown",
   "metadata": {
    "collapsed": true
   },
   "source": [
    "**Getting information from a string**\n",
    "\n",
    "| Command | What does the command do? | What is it useful for? |\n",
    "|---------|---------------------------|------------------------|\n",
    "| find |||\n",
    "| index |||\n",
    "| count | Count the occurrences of a substring in a string. WARNING: doesn't care about spaces! | General utility |\n",
    "\n",
    "Others in this category: `rfind, rindex`.\n",
    "\n",
    "**Checking if a string has a particular property**\n",
    "\n",
    "| Command | What does the command do? | What is it useful for? |\n",
    "|---------|---------------------------|------------------------|\n",
    "| startswith | Check if a string starts with a particular sequence of characters. | Detecting words with particular base lemmas. |\n",
    "| endswith | Check if a string ends with a particular sequence of characters. | Detecting particular compounds, inflectional forms, ... |\n",
    "| isdigit | Check if a string consists only of numbers. | Detecting values in tokenized text. |\n",
    "\n",
    "Others in this category: `isalnum, isalpha, isdecimal, isidentifier, islower, isnumeric, isprintable, isspace, istitle, isupper`."
   ]
  },
  {
   "cell_type": "code",
   "execution_count": null,
   "metadata": {
    "collapsed": true
   },
   "outputs": [],
   "source": []
  }
 ],
 "metadata": {
  "anaconda-cloud": {},
  "kernelspec": {
   "display_name": "Python [default]",
   "language": "python",
   "name": "python3"
  },
  "language_info": {
   "codemirror_mode": {
    "name": "ipython",
    "version": 3
   },
   "file_extension": ".py",
   "mimetype": "text/x-python",
   "name": "python",
   "nbconvert_exporter": "python",
   "pygments_lexer": "ipython3",
   "version": "3.5.2"
  },
  "nbpresent": {
   "slides": {
    "885982de-393b-4426-bf75-6f60fd074759": {
     "id": "885982de-393b-4426-bf75-6f60fd074759",
     "prev": "e1fd741a-c61b-4e01-b5f5-b12c46d6f454",
     "regions": {
      "16d7838b-e3f7-4bc0-a615-afc598ade8bd": {
       "attrs": {
        "height": 0.8,
        "width": 0.8,
        "x": 0.1,
        "y": 0.1
       },
       "content": {
        "cell": "b7f6b1da-87c1-4e16-bd55-574c34db90ea",
        "part": "whole"
       },
       "id": "16d7838b-e3f7-4bc0-a615-afc598ade8bd"
      },
      "1d7ed633-8ee9-4746-be8e-c0ad21892d69": {
       "attrs": {
        "height": 0.4,
        "width": 0.8,
        "x": 0.1,
        "y": 0.5
       },
       "content": {
        "cell": "a984930a-be23-4ea2-a87d-73dfdf9e17ca",
        "part": "whole"
       },
       "id": "1d7ed633-8ee9-4746-be8e-c0ad21892d69"
      }
     }
    },
    "e1fd741a-c61b-4e01-b5f5-b12c46d6f454": {
     "id": "e1fd741a-c61b-4e01-b5f5-b12c46d6f454",
     "prev": null,
     "regions": {
      "033f0f4d-8b19-4f17-bd50-582f3e0e64b0": {
       "attrs": {
        "height": 0.8,
        "width": 0.8,
        "x": 0.1,
        "y": 0.1
       },
       "content": {
        "cell": "8417a2cc-6915-4770-ae72-186a27a011d5",
        "part": "whole"
       },
       "id": "033f0f4d-8b19-4f17-bd50-582f3e0e64b0"
      }
     }
    }
   },
   "themes": {}
  }
 },
 "nbformat": 4,
 "nbformat_minor": 0
}
