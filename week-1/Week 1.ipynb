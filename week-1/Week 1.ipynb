{
 "cells": [
  {
   "cell_type": "markdown",
   "metadata": {},
   "source": [
    "# Week 1: the basics"
   ]
  },
  {
   "cell_type": "markdown",
   "metadata": {},
   "source": [
    "Hello and welcome to the first week of *Python for text analysis*, let's begin straightaway! \n",
    "\n",
    "Below is a box with some code in it. If you select that box and press the play button above or `ctrl+Enter`, the Python interpreter will try to execute your code."
   ]
  },
  {
   "cell_type": "code",
   "execution_count": 1,
   "metadata": {
    "collapsed": false
   },
   "outputs": [
    {
     "name": "stdout",
     "output_type": "stream",
     "text": [
      "Hello, world!\n"
     ]
    }
   ],
   "source": [
    "# Classical first example for any programming language.\n",
    "print(\"Hello world!\")"
   ]
  },
  {
   "cell_type": "markdown",
   "metadata": {},
   "source": [
    "The first line is a **comment**. Lines that start with a hashtag are ignored by the interpreter, so you can use those lines to provide additional information about your code. On the second line, the `print()` **function** is called with the **string** \"Hello world!\" as its **argument**. The only thing the `print()` function does is write text to your screen."
   ]
  },
  {
   "cell_type": "markdown",
   "metadata": {},
   "source": [
    "## Numbers and variables"
   ]
  },
  {
   "cell_type": "markdown",
   "metadata": {},
   "source": [
    "Let's begin with numbers and number operations. Python supports all the basic operations, such as addition, subtraction, multiplication, and division. Try it yourself:"
   ]
  },
  {
   "cell_type": "code",
   "execution_count": 4,
   "metadata": {
    "collapsed": false
   },
   "outputs": [
    {
     "name": "stdout",
     "output_type": "stream",
     "text": [
      "5\n",
      "2\n",
      "6\n",
      "1.5\n"
     ]
    }
   ],
   "source": [
    "print(3 + 2)\n",
    "print(3 - 1)\n",
    "print(3 * 2)\n",
    "print(3 / 2)"
   ]
  },
  {
   "cell_type": "markdown",
   "metadata": {},
   "source": [
    "There are also some fancier operations that you can do in Python. You don't need to understand these just yet. But it's good to know they exist!"
   ]
  },
  {
   "cell_type": "code",
   "execution_count": 9,
   "metadata": {
    "collapsed": false
   },
   "outputs": [
    {
     "name": "stdout",
     "output_type": "stream",
     "text": [
      "9\n",
      "2\n",
      "1\n",
      "(2, 1)\n"
     ]
    }
   ],
   "source": [
    "# Get X to the power of Y (that is: X^Y)\n",
    "print(3**2)\n",
    "\n",
    "# Floor division (divide X by Y, rounding down):\n",
    "print(5 // 2)\n",
    "\n",
    "# The modulo operation (get the remainder of X divided by Y):\n",
    "print(5 % 2)\n",
    "\n",
    "# The divmod() function is a combination of these two.\n",
    "# It gives you both the quotient and the remainder.\n",
    "print(divmod(5,2))"
   ]
  },
  {
   "cell_type": "markdown",
   "metadata": {},
   "source": [
    "So far we have only been working with numbers directly. But we can also use **variables** to refer to a particular value. Here's an example:"
   ]
  },
  {
   "cell_type": "code",
   "execution_count": 10,
   "metadata": {
    "collapsed": false
   },
   "outputs": [
    {
     "name": "stdout",
     "output_type": "stream",
     "text": [
      "1\n"
     ]
    }
   ],
   "source": [
    "x = 1\n",
    "print(x)"
   ]
  },
  {
   "cell_type": "markdown",
   "metadata": {},
   "source": [
    "Perhaps not very surprisingly, this code prints the value of `x`, which is `1`. Now let's try something a little more complicated:"
   ]
  },
  {
   "cell_type": "code",
   "execution_count": 11,
   "metadata": {
    "collapsed": false
   },
   "outputs": [
    {
     "name": "stdout",
     "output_type": "stream",
     "text": [
      "2\n"
     ]
    }
   ],
   "source": [
    "x = 1\n",
    "x = 2\n",
    "print(x)"
   ]
  },
  {
   "cell_type": "markdown",
   "metadata": {},
   "source": [
    "Here we first made `x` refer to the number one, and then in the next line updated the reference of `x` to the number two. (So you can read the equals sign as 'becomes' or 'will from now on refer to'.) Now let's try to *use* `x`: we will multiply its value by two, and make the new variable `x_doubled` refer to the result:"
   ]
  },
  {
   "cell_type": "code",
   "execution_count": 13,
   "metadata": {
    "collapsed": false
   },
   "outputs": [
    {
     "name": "stdout",
     "output_type": "stream",
     "text": [
      "4\n"
     ]
    }
   ],
   "source": [
    "x_doubled = x * 2\n",
    "print(x_doubled)"
   ]
  },
  {
   "cell_type": "markdown",
   "metadata": {},
   "source": [
    "You can give variables any name you want (even funny ones like `awesome_giraffe` or `_2COOL4SCHOOL_`), as long as they start with an underscore or a letter from the alphabet. However, it is more helpful to use clear variable names, so that next time you won't be too confused looking at your own code. (\"What on earth does 'fluffy_zebra' refer to?\")\n",
    "\n",
    "**Assignment**\n",
    "\n",
    "Here is some code that takes a number of seconds, and prints the amount of minutes that fit into that number of seconds, as well as the remaining number of seconds. Try it out:"
   ]
  },
  {
   "cell_type": "code",
   "execution_count": 16,
   "metadata": {
    "collapsed": false
   },
   "outputs": [
    {
     "name": "stdout",
     "output_type": "stream",
     "text": [
      "minutes: 15412 seconds: 9\n"
     ]
    }
   ],
   "source": [
    "total_seconds = 924729\n",
    "total_minutes = total_seconds // 60\n",
    "remaining_seconds = total_seconds % 60\n",
    "print(\"minutes:\", total_minutes, \n",
    "      \"seconds:\", remaining_seconds)"
   ]
  },
  {
   "cell_type": "markdown",
   "metadata": {},
   "source": [
    "Can you extend this code so that it gives you the amount of hours as well? (Hint: there are 60 minutes in an hour.)"
   ]
  },
  {
   "cell_type": "code",
   "execution_count": null,
   "metadata": {
    "collapsed": true
   },
   "outputs": [],
   "source": [
    "total_seconds = 924729\n",
    "total_minutes = total_seconds // 60\n",
    "remaining_seconds = total_seconds % 60\n",
    "# Your code here:\n",
    "total_hours = ...\n",
    "remaining_minutes = ...\n",
    "print(\"hours:\", total_hours,\n",
    "      \"minutes:\", remaining_minutes, \n",
    "      \"seconds:\", remaining_seconds)"
   ]
  },
  {
   "cell_type": "markdown",
   "metadata": {},
   "source": [
    "## Strings, lists, and objects\n",
    "\n",
    "Now let's move on to text. "
   ]
  }
 ],
 "metadata": {
  "kernelspec": {
   "display_name": "Python 3",
   "language": "python",
   "name": "python3"
  },
  "language_info": {
   "codemirror_mode": {
    "name": "ipython",
    "version": 3
   },
   "file_extension": ".py",
   "mimetype": "text/x-python",
   "name": "python",
   "nbconvert_exporter": "python",
   "pygments_lexer": "ipython3",
   "version": "3.3.5"
  }
 },
 "nbformat": 4,
 "nbformat_minor": 0
}
